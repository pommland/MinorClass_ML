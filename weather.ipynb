{
  "nbformat": 4,
  "nbformat_minor": 0,
  "metadata": {
    "colab": {
      "name": "weather.ipynb",
      "provenance": [],
      "collapsed_sections": [],
      "include_colab_link": true
    },
    "kernelspec": {
      "name": "python3",
      "display_name": "Python 3"
    },
    "language_info": {
      "name": "python"
    }
  },
  "cells": [
    {
      "cell_type": "markdown",
      "metadata": {
        "id": "view-in-github",
        "colab_type": "text"
      },
      "source": [
        "<a href=\"https://colab.research.google.com/github/pommland/MinorClass_ML/blob/main/weather.ipynb\" target=\"_parent\"><img src=\"https://colab.research.google.com/assets/colab-badge.svg\" alt=\"Open In Colab\"/></a>"
      ]
    },
    {
      "cell_type": "markdown",
      "metadata": {
        "id": "a2uj1fUqdON9"
      },
      "source": [
        "# Australia Weather\n",
        "\n",
        "## Data Description\n",
        "| Variable | Definition |\n",
        "| -------- | ---------- |\n",
        "| Date | The date of observation |\n",
        "| Location | The common name of the location of the weather station |\n",
        "| MinTemp | The minimum temperature in degrees celsius |\n",
        "| MaxTemp | The maximum temperature in degrees celsius |\n",
        "| Sunshine | The number of hours of bright sunshine in the day |\n",
        "| WindDir9am | Direction of the wind at 9am |\n",
        "| WindSpeed9am | Wind speed (km/hr) averaged over 10 minutes prior to 9am |\n",
        "| Humidity9am | Humidity (percent) at 9am |\n",
        "| Pressure9am | Atmospheric pressure (hpa) reduced to mean sea level at 9am |\n",
        "| Cloud9am | Fraction of sky obscured by cloud at 9am. This is measured in \"oktas\", which are a unit of eigths. It records how many |\n",
        "| Temp9am | Temperature (degrees C) at 9am |\n",
        "\n",
        "### Target Variable\n",
        "- RainToday (Yes, No)\n",
        "\n",
        "## Objective\n",
        "- Clean ค่า null ถ้า column ไหนมี null มากกว่า 40% ให้แทนค่า null ด้วยค่า mean ของ column นั้นๆ\n",
        "- สร้าง classification model เพื่อทำนาย RainToday"
      ]
    },
    {
      "cell_type": "code",
      "metadata": {
        "id": "JOmEb_eqdNQL"
      },
      "source": [
        "import numpy as np\n",
        "import pandas as pd\n",
        "import seaborn as sns\n",
        "import matplotlib.pyplot as plt\n",
        "\n",
        "from sklearn import svm\n",
        "from sklearn import tree\n",
        "from sklearn.metrics import plot_roc_curve\n",
        "from sklearn.tree import DecisionTreeClassifier\n",
        "from sklearn.neighbors import KNeighborsClassifier\n",
        "from sklearn.linear_model import LogisticRegression\n",
        "from sklearn.model_selection import KFold, train_test_split\n",
        "from sklearn.metrics import accuracy_score, plot_confusion_matrix\n",
        "from sklearn.model_selection import cross_val_score, cross_val_predict"
      ],
      "execution_count": null,
      "outputs": []
    },
    {
      "cell_type": "code",
      "metadata": {
        "colab": {
          "base_uri": "https://localhost:8080/"
        },
        "id": "rrFEZSyd5TsH",
        "outputId": "70abb6cc-261f-4aec-be78-39d431b864bf"
      },
      "source": [
        "from google.colab import drive\n",
        "drive.mount('/content/drive')"
      ],
      "execution_count": null,
      "outputs": [
        {
          "output_type": "stream",
          "text": [
            "Drive already mounted at /content/drive; to attempt to forcibly remount, call drive.mount(\"/content/drive\", force_remount=True).\n"
          ],
          "name": "stdout"
        }
      ]
    },
    {
      "cell_type": "code",
      "metadata": {
        "id": "WM8rHe97iF06"
      },
      "source": [
        "df = pd.read_csv(\"/content/drive/MyDrive/ปี 2 เทอม 2 ปอม/AI_2021/ML/Assignment5/weather_data_prepared.csv\")"
      ],
      "execution_count": null,
      "outputs": []
    },
    {
      "cell_type": "code",
      "metadata": {
        "colab": {
          "base_uri": "https://localhost:8080/"
        },
        "id": "lZpniSkO6R2r",
        "outputId": "c67e2a6d-97d2-40c2-a27c-75450cbc3053"
      },
      "source": [
        "print(df.head())"
      ],
      "execution_count": null,
      "outputs": [
        {
          "output_type": "stream",
          "text": [
            "         Date Location  MinTemp  ...  Cloud9am  Temp9am RainToday\n",
            "0  2008-12-01   Albury     13.4  ...       8.0     16.9        No\n",
            "1  2008-12-02   Albury      7.4  ...       NaN     17.2        No\n",
            "2  2008-12-03   Albury     12.9  ...       NaN     21.0        No\n",
            "3  2008-12-04   Albury      9.2  ...       NaN     18.1        No\n",
            "4  2008-12-05   Albury     17.5  ...       7.0     17.8        No\n",
            "\n",
            "[5 rows x 12 columns]\n"
          ],
          "name": "stdout"
        }
      ]
    },
    {
      "cell_type": "code",
      "metadata": {
        "colab": {
          "base_uri": "https://localhost:8080/"
        },
        "id": "vXdkWkMd6spk",
        "outputId": "d1a2d73c-aa92-47a7-b5b4-6c9b150dcdc3"
      },
      "source": [
        "print(df.info())\n",
        "print(df.shape)"
      ],
      "execution_count": null,
      "outputs": [
        {
          "output_type": "stream",
          "text": [
            "<class 'pandas.core.frame.DataFrame'>\n",
            "RangeIndex: 145460 entries, 0 to 145459\n",
            "Data columns (total 12 columns):\n",
            " #   Column        Non-Null Count   Dtype  \n",
            "---  ------        --------------   -----  \n",
            " 0   Date          145460 non-null  object \n",
            " 1   Location      145460 non-null  object \n",
            " 2   MinTemp       143975 non-null  float64\n",
            " 3   MaxTemp       144199 non-null  float64\n",
            " 4   Sunshine      75625 non-null   float64\n",
            " 5   WindDir9am    134894 non-null  object \n",
            " 6   WindSpeed9am  143693 non-null  float64\n",
            " 7   Humidity9am   142806 non-null  float64\n",
            " 8   Pressure9am   130395 non-null  float64\n",
            " 9   Cloud9am      89572 non-null   float64\n",
            " 10  Temp9am       143693 non-null  float64\n",
            " 11  RainToday     142199 non-null  object \n",
            "dtypes: float64(8), object(4)\n",
            "memory usage: 13.3+ MB\n",
            "None\n",
            "(145460, 12)\n"
          ],
          "name": "stdout"
        }
      ]
    },
    {
      "cell_type": "code",
      "metadata": {
        "colab": {
          "base_uri": "https://localhost:8080/",
          "height": 288
        },
        "id": "nyFa8jih62GL",
        "outputId": "80b34bca-4da4-496a-f2c1-737f837bff54"
      },
      "source": [
        "df.describe()"
      ],
      "execution_count": null,
      "outputs": [
        {
          "output_type": "execute_result",
          "data": {
            "text/html": [
              "<div>\n",
              "<style scoped>\n",
              "    .dataframe tbody tr th:only-of-type {\n",
              "        vertical-align: middle;\n",
              "    }\n",
              "\n",
              "    .dataframe tbody tr th {\n",
              "        vertical-align: top;\n",
              "    }\n",
              "\n",
              "    .dataframe thead th {\n",
              "        text-align: right;\n",
              "    }\n",
              "</style>\n",
              "<table border=\"1\" class=\"dataframe\">\n",
              "  <thead>\n",
              "    <tr style=\"text-align: right;\">\n",
              "      <th></th>\n",
              "      <th>MinTemp</th>\n",
              "      <th>MaxTemp</th>\n",
              "      <th>Sunshine</th>\n",
              "      <th>WindSpeed9am</th>\n",
              "      <th>Humidity9am</th>\n",
              "      <th>Pressure9am</th>\n",
              "      <th>Cloud9am</th>\n",
              "      <th>Temp9am</th>\n",
              "    </tr>\n",
              "  </thead>\n",
              "  <tbody>\n",
              "    <tr>\n",
              "      <th>count</th>\n",
              "      <td>143975.000000</td>\n",
              "      <td>144199.000000</td>\n",
              "      <td>75625.000000</td>\n",
              "      <td>143693.000000</td>\n",
              "      <td>142806.000000</td>\n",
              "      <td>130395.00000</td>\n",
              "      <td>89572.000000</td>\n",
              "      <td>143693.000000</td>\n",
              "    </tr>\n",
              "    <tr>\n",
              "      <th>mean</th>\n",
              "      <td>12.194034</td>\n",
              "      <td>23.221348</td>\n",
              "      <td>7.611178</td>\n",
              "      <td>14.043426</td>\n",
              "      <td>68.880831</td>\n",
              "      <td>1017.64994</td>\n",
              "      <td>4.447461</td>\n",
              "      <td>16.990631</td>\n",
              "    </tr>\n",
              "    <tr>\n",
              "      <th>std</th>\n",
              "      <td>6.398495</td>\n",
              "      <td>7.119049</td>\n",
              "      <td>3.785483</td>\n",
              "      <td>8.915375</td>\n",
              "      <td>19.029164</td>\n",
              "      <td>7.10653</td>\n",
              "      <td>2.887159</td>\n",
              "      <td>6.488753</td>\n",
              "    </tr>\n",
              "    <tr>\n",
              "      <th>min</th>\n",
              "      <td>-8.500000</td>\n",
              "      <td>-4.800000</td>\n",
              "      <td>0.000000</td>\n",
              "      <td>0.000000</td>\n",
              "      <td>0.000000</td>\n",
              "      <td>980.50000</td>\n",
              "      <td>0.000000</td>\n",
              "      <td>-7.200000</td>\n",
              "    </tr>\n",
              "    <tr>\n",
              "      <th>25%</th>\n",
              "      <td>7.600000</td>\n",
              "      <td>17.900000</td>\n",
              "      <td>4.800000</td>\n",
              "      <td>7.000000</td>\n",
              "      <td>57.000000</td>\n",
              "      <td>1012.90000</td>\n",
              "      <td>1.000000</td>\n",
              "      <td>12.300000</td>\n",
              "    </tr>\n",
              "    <tr>\n",
              "      <th>50%</th>\n",
              "      <td>12.000000</td>\n",
              "      <td>22.600000</td>\n",
              "      <td>8.400000</td>\n",
              "      <td>13.000000</td>\n",
              "      <td>70.000000</td>\n",
              "      <td>1017.60000</td>\n",
              "      <td>5.000000</td>\n",
              "      <td>16.700000</td>\n",
              "    </tr>\n",
              "    <tr>\n",
              "      <th>75%</th>\n",
              "      <td>16.900000</td>\n",
              "      <td>28.200000</td>\n",
              "      <td>10.600000</td>\n",
              "      <td>19.000000</td>\n",
              "      <td>83.000000</td>\n",
              "      <td>1022.40000</td>\n",
              "      <td>7.000000</td>\n",
              "      <td>21.600000</td>\n",
              "    </tr>\n",
              "    <tr>\n",
              "      <th>max</th>\n",
              "      <td>33.900000</td>\n",
              "      <td>48.100000</td>\n",
              "      <td>14.500000</td>\n",
              "      <td>130.000000</td>\n",
              "      <td>100.000000</td>\n",
              "      <td>1041.00000</td>\n",
              "      <td>9.000000</td>\n",
              "      <td>40.200000</td>\n",
              "    </tr>\n",
              "  </tbody>\n",
              "</table>\n",
              "</div>"
            ],
            "text/plain": [
              "             MinTemp        MaxTemp  ...      Cloud9am        Temp9am\n",
              "count  143975.000000  144199.000000  ...  89572.000000  143693.000000\n",
              "mean       12.194034      23.221348  ...      4.447461      16.990631\n",
              "std         6.398495       7.119049  ...      2.887159       6.488753\n",
              "min        -8.500000      -4.800000  ...      0.000000      -7.200000\n",
              "25%         7.600000      17.900000  ...      1.000000      12.300000\n",
              "50%        12.000000      22.600000  ...      5.000000      16.700000\n",
              "75%        16.900000      28.200000  ...      7.000000      21.600000\n",
              "max        33.900000      48.100000  ...      9.000000      40.200000\n",
              "\n",
              "[8 rows x 8 columns]"
            ]
          },
          "metadata": {
            "tags": []
          },
          "execution_count": 701
        }
      ]
    },
    {
      "cell_type": "code",
      "metadata": {
        "colab": {
          "base_uri": "https://localhost:8080/",
          "height": 407
        },
        "id": "GTtcSVcc-iyC",
        "outputId": "64f16a58-483a-495f-f1c1-9d0685a8f14d"
      },
      "source": [
        "df"
      ],
      "execution_count": null,
      "outputs": [
        {
          "output_type": "execute_result",
          "data": {
            "text/html": [
              "<div>\n",
              "<style scoped>\n",
              "    .dataframe tbody tr th:only-of-type {\n",
              "        vertical-align: middle;\n",
              "    }\n",
              "\n",
              "    .dataframe tbody tr th {\n",
              "        vertical-align: top;\n",
              "    }\n",
              "\n",
              "    .dataframe thead th {\n",
              "        text-align: right;\n",
              "    }\n",
              "</style>\n",
              "<table border=\"1\" class=\"dataframe\">\n",
              "  <thead>\n",
              "    <tr style=\"text-align: right;\">\n",
              "      <th></th>\n",
              "      <th>Date</th>\n",
              "      <th>Location</th>\n",
              "      <th>MinTemp</th>\n",
              "      <th>MaxTemp</th>\n",
              "      <th>Sunshine</th>\n",
              "      <th>WindDir9am</th>\n",
              "      <th>WindSpeed9am</th>\n",
              "      <th>Humidity9am</th>\n",
              "      <th>Pressure9am</th>\n",
              "      <th>Cloud9am</th>\n",
              "      <th>Temp9am</th>\n",
              "      <th>RainToday</th>\n",
              "    </tr>\n",
              "  </thead>\n",
              "  <tbody>\n",
              "    <tr>\n",
              "      <th>0</th>\n",
              "      <td>2008-12-01</td>\n",
              "      <td>Albury</td>\n",
              "      <td>13.4</td>\n",
              "      <td>22.9</td>\n",
              "      <td>NaN</td>\n",
              "      <td>W</td>\n",
              "      <td>20.0</td>\n",
              "      <td>71.0</td>\n",
              "      <td>1007.7</td>\n",
              "      <td>8.0</td>\n",
              "      <td>16.9</td>\n",
              "      <td>No</td>\n",
              "    </tr>\n",
              "    <tr>\n",
              "      <th>1</th>\n",
              "      <td>2008-12-02</td>\n",
              "      <td>Albury</td>\n",
              "      <td>7.4</td>\n",
              "      <td>25.1</td>\n",
              "      <td>NaN</td>\n",
              "      <td>NNW</td>\n",
              "      <td>4.0</td>\n",
              "      <td>44.0</td>\n",
              "      <td>1010.6</td>\n",
              "      <td>NaN</td>\n",
              "      <td>17.2</td>\n",
              "      <td>No</td>\n",
              "    </tr>\n",
              "    <tr>\n",
              "      <th>2</th>\n",
              "      <td>2008-12-03</td>\n",
              "      <td>Albury</td>\n",
              "      <td>12.9</td>\n",
              "      <td>25.7</td>\n",
              "      <td>NaN</td>\n",
              "      <td>W</td>\n",
              "      <td>19.0</td>\n",
              "      <td>38.0</td>\n",
              "      <td>1007.6</td>\n",
              "      <td>NaN</td>\n",
              "      <td>21.0</td>\n",
              "      <td>No</td>\n",
              "    </tr>\n",
              "    <tr>\n",
              "      <th>3</th>\n",
              "      <td>2008-12-04</td>\n",
              "      <td>Albury</td>\n",
              "      <td>9.2</td>\n",
              "      <td>28.0</td>\n",
              "      <td>NaN</td>\n",
              "      <td>SE</td>\n",
              "      <td>11.0</td>\n",
              "      <td>45.0</td>\n",
              "      <td>1017.6</td>\n",
              "      <td>NaN</td>\n",
              "      <td>18.1</td>\n",
              "      <td>No</td>\n",
              "    </tr>\n",
              "    <tr>\n",
              "      <th>4</th>\n",
              "      <td>2008-12-05</td>\n",
              "      <td>Albury</td>\n",
              "      <td>17.5</td>\n",
              "      <td>32.3</td>\n",
              "      <td>NaN</td>\n",
              "      <td>ENE</td>\n",
              "      <td>7.0</td>\n",
              "      <td>82.0</td>\n",
              "      <td>1010.8</td>\n",
              "      <td>7.0</td>\n",
              "      <td>17.8</td>\n",
              "      <td>No</td>\n",
              "    </tr>\n",
              "    <tr>\n",
              "      <th>...</th>\n",
              "      <td>...</td>\n",
              "      <td>...</td>\n",
              "      <td>...</td>\n",
              "      <td>...</td>\n",
              "      <td>...</td>\n",
              "      <td>...</td>\n",
              "      <td>...</td>\n",
              "      <td>...</td>\n",
              "      <td>...</td>\n",
              "      <td>...</td>\n",
              "      <td>...</td>\n",
              "      <td>...</td>\n",
              "    </tr>\n",
              "    <tr>\n",
              "      <th>145455</th>\n",
              "      <td>2017-06-21</td>\n",
              "      <td>Uluru</td>\n",
              "      <td>2.8</td>\n",
              "      <td>23.4</td>\n",
              "      <td>NaN</td>\n",
              "      <td>SE</td>\n",
              "      <td>13.0</td>\n",
              "      <td>51.0</td>\n",
              "      <td>1024.6</td>\n",
              "      <td>NaN</td>\n",
              "      <td>10.1</td>\n",
              "      <td>No</td>\n",
              "    </tr>\n",
              "    <tr>\n",
              "      <th>145456</th>\n",
              "      <td>2017-06-22</td>\n",
              "      <td>Uluru</td>\n",
              "      <td>3.6</td>\n",
              "      <td>25.3</td>\n",
              "      <td>NaN</td>\n",
              "      <td>SE</td>\n",
              "      <td>13.0</td>\n",
              "      <td>56.0</td>\n",
              "      <td>1023.5</td>\n",
              "      <td>NaN</td>\n",
              "      <td>10.9</td>\n",
              "      <td>No</td>\n",
              "    </tr>\n",
              "    <tr>\n",
              "      <th>145457</th>\n",
              "      <td>2017-06-23</td>\n",
              "      <td>Uluru</td>\n",
              "      <td>5.4</td>\n",
              "      <td>26.9</td>\n",
              "      <td>NaN</td>\n",
              "      <td>SE</td>\n",
              "      <td>9.0</td>\n",
              "      <td>53.0</td>\n",
              "      <td>1021.0</td>\n",
              "      <td>NaN</td>\n",
              "      <td>12.5</td>\n",
              "      <td>No</td>\n",
              "    </tr>\n",
              "    <tr>\n",
              "      <th>145458</th>\n",
              "      <td>2017-06-24</td>\n",
              "      <td>Uluru</td>\n",
              "      <td>7.8</td>\n",
              "      <td>27.0</td>\n",
              "      <td>NaN</td>\n",
              "      <td>SSE</td>\n",
              "      <td>13.0</td>\n",
              "      <td>51.0</td>\n",
              "      <td>1019.4</td>\n",
              "      <td>3.0</td>\n",
              "      <td>15.1</td>\n",
              "      <td>No</td>\n",
              "    </tr>\n",
              "    <tr>\n",
              "      <th>145459</th>\n",
              "      <td>2017-06-25</td>\n",
              "      <td>Uluru</td>\n",
              "      <td>14.9</td>\n",
              "      <td>NaN</td>\n",
              "      <td>NaN</td>\n",
              "      <td>ESE</td>\n",
              "      <td>17.0</td>\n",
              "      <td>62.0</td>\n",
              "      <td>1020.2</td>\n",
              "      <td>8.0</td>\n",
              "      <td>15.0</td>\n",
              "      <td>No</td>\n",
              "    </tr>\n",
              "  </tbody>\n",
              "</table>\n",
              "<p>145460 rows × 12 columns</p>\n",
              "</div>"
            ],
            "text/plain": [
              "              Date Location  MinTemp  ...  Cloud9am  Temp9am RainToday\n",
              "0       2008-12-01   Albury     13.4  ...       8.0     16.9        No\n",
              "1       2008-12-02   Albury      7.4  ...       NaN     17.2        No\n",
              "2       2008-12-03   Albury     12.9  ...       NaN     21.0        No\n",
              "3       2008-12-04   Albury      9.2  ...       NaN     18.1        No\n",
              "4       2008-12-05   Albury     17.5  ...       7.0     17.8        No\n",
              "...            ...      ...      ...  ...       ...      ...       ...\n",
              "145455  2017-06-21    Uluru      2.8  ...       NaN     10.1        No\n",
              "145456  2017-06-22    Uluru      3.6  ...       NaN     10.9        No\n",
              "145457  2017-06-23    Uluru      5.4  ...       NaN     12.5        No\n",
              "145458  2017-06-24    Uluru      7.8  ...       3.0     15.1        No\n",
              "145459  2017-06-25    Uluru     14.9  ...       8.0     15.0        No\n",
              "\n",
              "[145460 rows x 12 columns]"
            ]
          },
          "metadata": {
            "tags": []
          },
          "execution_count": 702
        }
      ]
    },
    {
      "cell_type": "code",
      "metadata": {
        "id": "acSp81Ag8CkZ"
      },
      "source": [
        "totalday = 145460 #cheack from rows of Date\n",
        "df['Date'] = [day for day in range(1,totalday+1)] #change Date time to int\n"
      ],
      "execution_count": null,
      "outputs": []
    },
    {
      "cell_type": "code",
      "metadata": {
        "colab": {
          "base_uri": "https://localhost:8080/"
        },
        "id": "Hp6poDD2BlDY",
        "outputId": "7cc5b016-846c-41c2-83c5-f57d2cd89bf8"
      },
      "source": [
        "\n",
        "\n",
        "unique_list = pd.unique(df[\"Location\"])\n",
        "country_code =[x for x in range(len(unique_list))]  #Change Country(String) to Country(int)\n",
        "\n",
        "for i in range(len(unique_list)): \n",
        "  print(\"Country:   {:20} will replace to code  : {}\".format(unique_list[i],country_code[i]))\n",
        "df.replace(unique_list, country_code, inplace=True)\n"
      ],
      "execution_count": null,
      "outputs": [
        {
          "output_type": "stream",
          "text": [
            "Country:   Albury               will replace to code  : 0\n",
            "Country:   BadgerysCreek        will replace to code  : 1\n",
            "Country:   Cobar                will replace to code  : 2\n",
            "Country:   CoffsHarbour         will replace to code  : 3\n",
            "Country:   Moree                will replace to code  : 4\n",
            "Country:   Newcastle            will replace to code  : 5\n",
            "Country:   NorahHead            will replace to code  : 6\n",
            "Country:   NorfolkIsland        will replace to code  : 7\n",
            "Country:   Penrith              will replace to code  : 8\n",
            "Country:   Richmond             will replace to code  : 9\n",
            "Country:   Sydney               will replace to code  : 10\n",
            "Country:   SydneyAirport        will replace to code  : 11\n",
            "Country:   WaggaWagga           will replace to code  : 12\n",
            "Country:   Williamtown          will replace to code  : 13\n",
            "Country:   Wollongong           will replace to code  : 14\n",
            "Country:   Canberra             will replace to code  : 15\n",
            "Country:   Tuggeranong          will replace to code  : 16\n",
            "Country:   MountGinini          will replace to code  : 17\n",
            "Country:   Ballarat             will replace to code  : 18\n",
            "Country:   Bendigo              will replace to code  : 19\n",
            "Country:   Sale                 will replace to code  : 20\n",
            "Country:   MelbourneAirport     will replace to code  : 21\n",
            "Country:   Melbourne            will replace to code  : 22\n",
            "Country:   Mildura              will replace to code  : 23\n",
            "Country:   Nhil                 will replace to code  : 24\n",
            "Country:   Portland             will replace to code  : 25\n",
            "Country:   Watsonia             will replace to code  : 26\n",
            "Country:   Dartmoor             will replace to code  : 27\n",
            "Country:   Brisbane             will replace to code  : 28\n",
            "Country:   Cairns               will replace to code  : 29\n",
            "Country:   GoldCoast            will replace to code  : 30\n",
            "Country:   Townsville           will replace to code  : 31\n",
            "Country:   Adelaide             will replace to code  : 32\n",
            "Country:   MountGambier         will replace to code  : 33\n",
            "Country:   Nuriootpa            will replace to code  : 34\n",
            "Country:   Woomera              will replace to code  : 35\n",
            "Country:   Albany               will replace to code  : 36\n",
            "Country:   Witchcliffe          will replace to code  : 37\n",
            "Country:   PearceRAAF           will replace to code  : 38\n",
            "Country:   PerthAirport         will replace to code  : 39\n",
            "Country:   Perth                will replace to code  : 40\n",
            "Country:   SalmonGums           will replace to code  : 41\n",
            "Country:   Walpole              will replace to code  : 42\n",
            "Country:   Hobart               will replace to code  : 43\n",
            "Country:   Launceston           will replace to code  : 44\n",
            "Country:   AliceSprings         will replace to code  : 45\n",
            "Country:   Darwin               will replace to code  : 46\n",
            "Country:   Katherine            will replace to code  : 47\n",
            "Country:   Uluru                will replace to code  : 48\n"
          ],
          "name": "stdout"
        }
      ]
    },
    {
      "cell_type": "code",
      "metadata": {
        "colab": {
          "base_uri": "https://localhost:8080/"
        },
        "id": "lwirY_iwXKRW",
        "outputId": "ff634885-914b-4502-990c-0c58d6d26f9b"
      },
      "source": [
        "\n",
        "direction_list = []\n",
        "for i in ((pd.unique(df[\"WindDir9am\"]))):\n",
        "  if type(i) != float: #Null data is type <float> อันเดียว ในคอลลัม นอกเหนือเป็น สตริง\n",
        "      direction_list.append(i)\n",
        "direction_code = [x for x in range(len(direction_list))]\n",
        "\n",
        "for i in range(len(direction_list)): \n",
        "  print(\"Direction of Wind at 9 AM :   {:10} will replace to code  : {}\".format(direction_list[i],direction_code[i]))\n",
        "df.replace(direction_list, direction_code, inplace=True)\n",
        "\n"
      ],
      "execution_count": null,
      "outputs": [
        {
          "output_type": "stream",
          "text": [
            "Direction of Wind at 9 AM :   W          will replace to code  : 0\n",
            "Direction of Wind at 9 AM :   NNW        will replace to code  : 1\n",
            "Direction of Wind at 9 AM :   SE         will replace to code  : 2\n",
            "Direction of Wind at 9 AM :   ENE        will replace to code  : 3\n",
            "Direction of Wind at 9 AM :   SW         will replace to code  : 4\n",
            "Direction of Wind at 9 AM :   SSE        will replace to code  : 5\n",
            "Direction of Wind at 9 AM :   S          will replace to code  : 6\n",
            "Direction of Wind at 9 AM :   NE         will replace to code  : 7\n",
            "Direction of Wind at 9 AM :   SSW        will replace to code  : 8\n",
            "Direction of Wind at 9 AM :   N          will replace to code  : 9\n",
            "Direction of Wind at 9 AM :   WSW        will replace to code  : 10\n",
            "Direction of Wind at 9 AM :   ESE        will replace to code  : 11\n",
            "Direction of Wind at 9 AM :   E          will replace to code  : 12\n",
            "Direction of Wind at 9 AM :   NW         will replace to code  : 13\n",
            "Direction of Wind at 9 AM :   WNW        will replace to code  : 14\n",
            "Direction of Wind at 9 AM :   NNE        will replace to code  : 15\n"
          ],
          "name": "stdout"
        }
      ]
    },
    {
      "cell_type": "code",
      "metadata": {
        "id": "BUoq1un_c42m"
      },
      "source": [
        "df.replace(['Yes', 'No'], [1, 0], inplace=True) #Replace Target Value"
      ],
      "execution_count": null,
      "outputs": []
    },
    {
      "cell_type": "code",
      "metadata": {
        "colab": {
          "base_uri": "https://localhost:8080/"
        },
        "id": "rX2wlFu-DFhP",
        "outputId": "6d75cd09-ef00-40df-a76e-442f0533b0a0"
      },
      "source": [
        "for i in df:\n",
        "  print(f\"column : {i} _ percent of null =  {df[i].isnull().sum()/totalday*100} %\")"
      ],
      "execution_count": null,
      "outputs": [
        {
          "output_type": "stream",
          "text": [
            "column : Date _ percent of null =  0.0 %\n",
            "column : Location _ percent of null =  0.0 %\n",
            "column : MinTemp _ percent of null =  1.0208992162793895 %\n",
            "column : MaxTemp _ percent of null =  0.8669049910628353 %\n",
            "column : Sunshine _ percent of null =  48.00976213391998 %\n",
            "column : WindDir9am _ percent of null =  7.263852605527293 %\n",
            "column : WindSpeed9am _ percent of null =  1.214766946239516 %\n",
            "column : Humidity9am _ percent of null =  1.8245565791282825 %\n",
            "column : Pressure9am _ percent of null =  10.356799120033 %\n",
            "column : Cloud9am _ percent of null =  38.42155919153032 %\n",
            "column : Temp9am _ percent of null =  1.214766946239516 %\n",
            "column : RainToday _ percent of null =  2.2418534304963567 %\n"
          ],
          "name": "stdout"
        }
      ]
    },
    {
      "cell_type": "code",
      "metadata": {
        "id": "dLOesvhgIo67"
      },
      "source": [
        "#Replace  data in \"Sunshine\" columns  because Null more than 40 percent\n",
        "df['Sunshine'] = df['Sunshine'].fillna(df[\"Sunshine\"].mean())"
      ],
      "execution_count": null,
      "outputs": []
    },
    {
      "cell_type": "code",
      "metadata": {
        "id": "5HcEGT02ux9d"
      },
      "source": [
        "df['WindDir9am'] = df['WindDir9am'].fillna(0)\n",
        "df['Cloud9am'] = df['Cloud9am'].fillna(0)\n",
        "df['RainToday'] = df['RainToday'].fillna(0)\n"
      ],
      "execution_count": null,
      "outputs": []
    },
    {
      "cell_type": "code",
      "metadata": {
        "colab": {
          "base_uri": "https://localhost:8080/"
        },
        "id": "-CWBkQ2UeGoD",
        "outputId": "1839ba3e-2cab-407a-9782-140865b2deef"
      },
      "source": [
        "print(df.info())"
      ],
      "execution_count": null,
      "outputs": [
        {
          "output_type": "stream",
          "text": [
            "<class 'pandas.core.frame.DataFrame'>\n",
            "RangeIndex: 145460 entries, 0 to 145459\n",
            "Data columns (total 12 columns):\n",
            " #   Column        Non-Null Count   Dtype  \n",
            "---  ------        --------------   -----  \n",
            " 0   Date          145460 non-null  int64  \n",
            " 1   Location      145460 non-null  int64  \n",
            " 2   MinTemp       143975 non-null  float64\n",
            " 3   MaxTemp       144199 non-null  float64\n",
            " 4   Sunshine      145460 non-null  float64\n",
            " 5   WindDir9am    145460 non-null  float64\n",
            " 6   WindSpeed9am  143693 non-null  float64\n",
            " 7   Humidity9am   142806 non-null  float64\n",
            " 8   Pressure9am   130395 non-null  float64\n",
            " 9   Cloud9am      145460 non-null  float64\n",
            " 10  Temp9am       143693 non-null  float64\n",
            " 11  RainToday     145460 non-null  float64\n",
            "dtypes: float64(10), int64(2)\n",
            "memory usage: 13.3 MB\n",
            "None\n"
          ],
          "name": "stdout"
        }
      ]
    },
    {
      "cell_type": "code",
      "metadata": {
        "colab": {
          "base_uri": "https://localhost:8080/",
          "height": 1000
        },
        "id": "t-5YtgWbfAYW",
        "outputId": "5e29d5b7-a185-4d4e-f82d-fa83313506c5"
      },
      "source": [
        "corr = df.corr(method='spearman')\n",
        "# Generate a mask for the upper triangle\n",
        "mask = np.zeros_like(corr, dtype=np.bool)\n",
        "mask[np.triu_indices_from(mask)] = True\n",
        "\n",
        "# Set up the matplotlib figure\n",
        "f, ax = plt.subplots(figsize=(20, 18))\n",
        "\n",
        "# Draw the heatmap with the mask and correct aspect ratio\n",
        "sns.heatmap(corr, annot = True, mask=mask, cmap=\"YlGnBu\", center=0,\n",
        "            square=True, linewidths=.5)"
      ],
      "execution_count": null,
      "outputs": [
        {
          "output_type": "execute_result",
          "data": {
            "text/plain": [
              "<matplotlib.axes._subplots.AxesSubplot at 0x7f42f1e14a90>"
            ]
          },
          "metadata": {
            "tags": []
          },
          "execution_count": 711
        },
        {
          "output_type": "display_data",
          "data": {
            "image/png": "[encoded data removed]",
            "text/plain": [
              "<Figure size 1440x1296 with 2 Axes>"
            ]
          },
          "metadata": {
            "tags": [],
            "needs_background": "light"
          }
        }
      ]
    },
    {
      "cell_type": "code",
      "metadata": {
        "colab": {
          "base_uri": "https://localhost:8080/",
          "height": 300
        },
        "id": "Cu_a1nGNf2Io",
        "outputId": "13a9c0ec-db37-40b7-a999-f68a6c4525de"
      },
      "source": [
        "plt.figure(figsize=(30,9))\n",
        "plt.subplot(421) \n",
        "df['RainToday'].value_counts(normalize=True).plot.bar(title= 'RainToday',rot=2) \n",
        "plt.subplot(422) \n",
        "df['WindDir9am'].value_counts(normalize=True).plot.bar(title= 'WindDir9am',rot=2) \n",
        "plt.subplot(423) \n",
        "df['Location'].value_counts(normalize=True).plot.bar(title= 'Location',rot=2)\n",
        "#data dont need to Resampling Technique (imbalance)\n"
      ],
      "execution_count": null,
      "outputs": [
        {
          "output_type": "execute_result",
          "data": {
            "text/plain": [
              "<matplotlib.axes._subplots.AxesSubplot at 0x7f42ee745dd0>"
            ]
          },
          "metadata": {
            "tags": []
          },
          "execution_count": 712
        },
        {
          "output_type": "display_data",
          "data": {
            "image/png": "[encoded data removed]",
            "text/plain": [
              "<Figure size 2160x648 with 3 Axes>"
            ]
          },
          "metadata": {
            "tags": [],
            "needs_background": "light"
          }
        }
      ]
    },
    {
      "cell_type": "code",
      "metadata": {
        "colab": {
          "base_uri": "https://localhost:8080/",
          "height": 716
        },
        "id": "hmNTrCEJhqil",
        "outputId": "00f6a167-1a28-47cb-f2ba-1d401fd2e301"
      },
      "source": [
        "plt.figure(figsize=(15,9))\n",
        "plt.subplot(231) \n",
        "a = sns.boxplot(df['MinTemp'])\n",
        "plt.subplot(232) \n",
        "a = sns.boxplot(df['MaxTemp'])\n",
        "plt.subplot(233) \n",
        "a = sns.boxplot(df['Sunshine'])\n",
        "plt.subplot(234) \n",
        "a = sns.boxplot(df['WindSpeed9am'])\n"
      ],
      "execution_count": null,
      "outputs": [
        {
          "output_type": "stream",
          "text": [
            "/usr/local/lib/python3.7/dist-packages/seaborn/_decorators.py:43: FutureWarning: Pass the following variable as a keyword arg: x. From version 0.12, the only valid positional argument will be `data`, and passing other arguments without an explicit keyword will result in an error or misinterpretation.\n",
            "  FutureWarning\n",
            "/usr/local/lib/python3.7/dist-packages/seaborn/_decorators.py:43: FutureWarning: Pass the following variable as a keyword arg: x. From version 0.12, the only valid positional argument will be `data`, and passing other arguments without an explicit keyword will result in an error or misinterpretation.\n",
            "  FutureWarning\n",
            "/usr/local/lib/python3.7/dist-packages/seaborn/_decorators.py:43: FutureWarning: Pass the following variable as a keyword arg: x. From version 0.12, the only valid positional argument will be `data`, and passing other arguments without an explicit keyword will result in an error or misinterpretation.\n",
            "  FutureWarning\n",
            "/usr/local/lib/python3.7/dist-packages/seaborn/_decorators.py:43: FutureWarning: Pass the following variable as a keyword arg: x. From version 0.12, the only valid positional argument will be `data`, and passing other arguments without an explicit keyword will result in an error or misinterpretation.\n",
            "  FutureWarning\n"
          ],
          "name": "stderr"
        },
        {
          "output_type": "display_data",
          "data": {
            "image/png": "[encoded data removed]",
            "text/plain": [
              "<Figure size 1080x648 with 4 Axes>"
            ]
          },
          "metadata": {
            "tags": [],
            "needs_background": "light"
          }
        }
      ]
    },
    {
      "cell_type": "code",
      "metadata": {
        "colab": {
          "base_uri": "https://localhost:8080/",
          "height": 716
        },
        "id": "8EiySjFMjbwt",
        "outputId": "0d3295ff-eee4-4ac1-abc2-1f00e42e6b92"
      },
      "source": [
        "plt.figure(figsize=(15,9))\n",
        "plt.subplot(235) \n",
        "a = sns.boxplot(df['Humidity9am'])\n",
        "plt.subplot(236) \n",
        "a = sns.boxplot(df['Pressure9am'])\n",
        "plt.subplot(241) \n",
        "a = sns.boxplot(df['Cloud9am'])\n",
        "plt.subplot(242) \n",
        "a = sns.boxplot(df['Temp9am'])"
      ],
      "execution_count": null,
      "outputs": [
        {
          "output_type": "stream",
          "text": [
            "/usr/local/lib/python3.7/dist-packages/seaborn/_decorators.py:43: FutureWarning: Pass the following variable as a keyword arg: x. From version 0.12, the only valid positional argument will be `data`, and passing other arguments without an explicit keyword will result in an error or misinterpretation.\n",
            "  FutureWarning\n",
            "/usr/local/lib/python3.7/dist-packages/seaborn/_decorators.py:43: FutureWarning: Pass the following variable as a keyword arg: x. From version 0.12, the only valid positional argument will be `data`, and passing other arguments without an explicit keyword will result in an error or misinterpretation.\n",
            "  FutureWarning\n",
            "/usr/local/lib/python3.7/dist-packages/seaborn/_decorators.py:43: FutureWarning: Pass the following variable as a keyword arg: x. From version 0.12, the only valid positional argument will be `data`, and passing other arguments without an explicit keyword will result in an error or misinterpretation.\n",
            "  FutureWarning\n",
            "/usr/local/lib/python3.7/dist-packages/seaborn/_decorators.py:43: FutureWarning: Pass the following variable as a keyword arg: x. From version 0.12, the only valid positional argument will be `data`, and passing other arguments without an explicit keyword will result in an error or misinterpretation.\n",
            "  FutureWarning\n"
          ],
          "name": "stderr"
        },
        {
          "output_type": "display_data",
          "data": {
            "image/png": "[encoded data removed]",
            "text/plain": [
              "<Figure size 1080x648 with 4 Axes>"
            ]
          },
          "metadata": {
            "tags": [],
            "needs_background": "light"
          }
        }
      ]
    },
    {
      "cell_type": "code",
      "metadata": {
        "id": "JisVMu9pjrvg"
      },
      "source": [
        "outlier_list = [\"MinTemp\",\"MaxTemp\",\"Sunshine\",\"WindSpeed9am\",\"Temp9am\",\"Humidity9am\",\"Pressure9am\"] \n",
        "for i in outlier_list :\n",
        "  cal_Q1 = df[i].quantile(0.25)\n",
        "  cal_Q3 = df[i].quantile(0.75)\n",
        "  cal_IQR = cal_Q3 - cal_Q1\n",
        "  cal_IQR\n",
        "\n",
        "  lower_limit = cal_Q1 - 1.5 * cal_IQR\n",
        "  upper_limit = cal_Q3 + 1.5 * cal_IQR\n",
        "\n",
        "  df = df[(df[i] > lower_limit)&(df[i] < upper_limit)]\n",
        "  df[i]"
      ],
      "execution_count": null,
      "outputs": []
    },
    {
      "cell_type": "code",
      "metadata": {
        "id": "83pY03H2lMd8"
      },
      "source": [
        "X = df.drop('RainToday', axis=1)\n",
        "y = df.RainToday\n",
        "\n",
        "x_train, x_test, y_train, y_test = train_test_split(X, y, test_size=0.2, random_state=10)"
      ],
      "execution_count": null,
      "outputs": []
    },
    {
      "cell_type": "code",
      "metadata": {
        "colab": {
          "base_uri": "https://localhost:8080/",
          "height": 360
        },
        "id": "ugLqTytNlahI",
        "outputId": "ab5f114e-00d3-4462-97bc-adea4bcb2d11"
      },
      "source": [
        "plt.figure(figsize=(10,5))\n",
        "plt.subplot(121)\n",
        "plt.title('Train target')\n",
        "y_train_under.value_counts().plot(kind='bar')\n",
        "plt.subplot(122)\n",
        "plt.title('Test target')\n",
        "y_test_under.value_counts().plot(kind='bar')"
      ],
      "execution_count": null,
      "outputs": [
        {
          "output_type": "execute_result",
          "data": {
            "text/plain": [
              "<matplotlib.axes._subplots.AxesSubplot at 0x7f42f183bc10>"
            ]
          },
          "metadata": {
            "tags": []
          },
          "execution_count": 717
        },
        {
          "output_type": "display_data",
          "data": {
            "image/png": "[encoded data removed]",
            "text/plain": [
              "<Figure size 720x360 with 2 Axes>"
            ]
          },
          "metadata": {
            "tags": [],
            "needs_background": "light"
          }
        }
      ]
    },
    {
      "cell_type": "code",
      "metadata": {
        "colab": {
          "base_uri": "https://localhost:8080/"
        },
        "id": "V6MlIQUZu4Er",
        "outputId": "c18f7448-7bfd-4117-9c8f-a43c6cb875bc"
      },
      "source": [
        "df.isna().sum()"
      ],
      "execution_count": null,
      "outputs": [
        {
          "output_type": "execute_result",
          "data": {
            "text/plain": [
              "Date            0\n",
              "Location        0\n",
              "MinTemp         0\n",
              "MaxTemp         0\n",
              "Sunshine        0\n",
              "WindDir9am      0\n",
              "WindSpeed9am    0\n",
              "Humidity9am     0\n",
              "Pressure9am     0\n",
              "Cloud9am        0\n",
              "Temp9am         0\n",
              "RainToday       0\n",
              "dtype: int64"
            ]
          },
          "metadata": {
            "tags": []
          },
          "execution_count": 718
        }
      ]
    },
    {
      "cell_type": "code",
      "metadata": {
        "colab": {
          "base_uri": "https://localhost:8080/"
        },
        "id": "Or9ctLzTqULt",
        "outputId": "a22c39ba-85e4-4f1a-994c-8f9dd700c915"
      },
      "source": [
        "k = 5\n",
        "\n",
        "clf_knn = KNeighborsClassifier(n_neighbors=k)\n",
        "clf_knn = clf_knn.fit(x_train, y_train) \n",
        "\n",
        "knn_y_pred = clf_knn.predict(x_test)\n",
        "\n",
        "print(f'Test data accuracy score (K = {k}): {np.round(clf_knn.score(x_test, y_test), 2)*100}%')\n",
        "\n"
      ],
      "execution_count": null,
      "outputs": [
        {
          "output_type": "stream",
          "text": [
            "Test data accuracy score (K = 5): 81.0%\n"
          ],
          "name": "stdout"
        }
      ]
    },
    {
      "cell_type": "code",
      "metadata": {
        "colab": {
          "base_uri": "https://localhost:8080/",
          "height": 297
        },
        "id": "CjAoW6e9qUbL",
        "outputId": "a104f2b1-2fb7-4f61-c61f-981ec5facac0"
      },
      "source": [
        "plot_confusion_matrix(clf_knn, x_test, y_test, cmap='Blues', values_format='d')"
      ],
      "execution_count": null,
      "outputs": [
        {
          "output_type": "execute_result",
          "data": {
            "text/plain": [
              "<sklearn.metrics._plot.confusion_matrix.ConfusionMatrixDisplay at 0x7f42f182c510>"
            ]
          },
          "metadata": {
            "tags": []
          },
          "execution_count": 720
        },
        {
          "output_type": "display_data",
          "data": {
            "image/png": "[encoded data removed]",
            "text/plain": [
              "<Figure size 432x288 with 2 Axes>"
            ]
          },
          "metadata": {
            "tags": [],
            "needs_background": "light"
          }
        }
      ]
    },
    {
      "cell_type": "code",
      "metadata": {
        "colab": {
          "base_uri": "https://localhost:8080/",
          "height": 279
        },
        "id": "VfycZGimlcwj",
        "outputId": "c1a51fbf-a17f-4c04-ed87-3e57d0fb94dc"
      },
      "source": [
        "# Plot ROC curve\n",
        "plot_roc_curve(clf_knn, x_test, y_test)\n",
        "plt.grid()"
      ],
      "execution_count": null,
      "outputs": [
        {
          "output_type": "display_data",
          "data": {
            "image/png": "[encoded data removed]",
            "text/plain": [
              "<Figure size 432x288 with 1 Axes>"
            ]
          },
          "metadata": {
            "tags": [],
            "needs_background": "light"
          }
        }
      ]
    }
  ]
}