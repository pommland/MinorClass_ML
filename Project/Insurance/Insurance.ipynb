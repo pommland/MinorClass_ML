{
  "nbformat": 4,
  "nbformat_minor": 0,
  "metadata": {
    "colab": {
      "name": "Insurance.ipynb",
      "provenance": [],
      "collapsed_sections": [],
      "toc_visible": true,
      "include_colab_link": true
    },
    "kernelspec": {
      "name": "python3",
      "display_name": "Python 3"
    },
    "language_info": {
      "name": "python"
    }
  },
  "cells": [
    {
      "cell_type": "markdown",
      "metadata": {
        "id": "view-in-github",
        "colab_type": "text"
      },
      "source": [
        "<a href=\"https://colab.research.google.com/github/pommland/MinorClass_ML/blob/main/Project/Insurance/Insurance.ipynb\" target=\"_parent\"><img src=\"https://colab.research.google.com/assets/colab-badge.svg\" alt=\"Open In Colab\"/></a>"
      ]
    },
    {
      "cell_type": "markdown",
      "metadata": {
        "id": "-vw7AzM-i10Z"
      },
      "source": [
        "# Health Insurance Sell Dataset\n",
        "\n",
        "สร้าง model สำหรับทำนายว่าลูกค้าผู้ซื้อกรมธรรม์ประกันสุขภาพในปีก่อน จะมีความสนใจในกรมธรรม์ตัวใหม่ของบริษัท - ประกันอุบัติเหตุรถยนต์ หรือไม่\n",
        "\n",
        "หลังจากที่ผู้เอาประกัน ได้ทำการตกลงทำตามข้อสัญญา กับทางบริษัทประกันเป็นที่เรียบร้อยแล้ว ผู้เอาประกัน จะต้องมีการจ่ายค่าตอบแทน (premium) ให้กับผู้รับประกัน ซึ่งก็คือบริษัทประกัน ตามจำนวนเงินในสัญญาภายในกรมธรรม์ (policy) และเมื่อเกิดอุบัติเหตุ บาดเจ็บ เสียทรัพย์ ไปจนถึงเสียชีวิต บริษัทประกัน จะทำการวิเคราะห์เหตุการณ์ และตีค่าออกมาเป็นตัวเงินก่อนจะชดเชยให้กับผู้เอาประกัน หรือผู้รับผลประโยชน์ ตามจำนวนเงินในเงื่อนไขภายในกรมธรรม์\n",
        "\n",
        "### Data Description\n",
        "\n",
        "| Variable | Definition |\n",
        "| -------- | ---------- |\n",
        "| id |\tUnique ID for the customer |\n",
        "| Gender |\tGender of the customer |\n",
        "| Age |\tAge of the customer |\n",
        "| Driving_License |\t0 : Customer does not have Driving License, <br> 1 : Customer already has Driving License |\n",
        "| Region_Code |\tUnique code for the region of the customer |\n",
        "| Previously_Insured |\t1 : Customer already has Vehicle Insurance, <br> 0 : Customer doesn't have Vehicle Insurance\n",
        "| Vehicle_Age |\tAge of the Vehicle |\n",
        "| Vehicle_Damage |\t1 : Customer got his/her vehicle damaged in the past. <br> 0 : Customer did not get his/her vehicle damaged in the past. |\n",
        "| Annual_Premium |\tThe amount customer needs to pay as premium in the year |\n",
        "| PolicySalesChannel |\tAnonymized Code for the channel of outreaching to the customer ie <br> Different Agents, Over Mail, Over Phone, In Person, etc. |\n",
        "| Vintage |\tNumber of Days, Customer has been associated with the company |\n",
        "| Response |\t1 : Customer is interested, <br> 0 : Customer is not interested |\n",
        "\n",
        "### Objective:\n",
        "model เพื่อทำนายว่าลูกค้าจะสนใจซื้อกรมธรรม์ประกันอุบัติเหตุรถยนต์หรือไม่"
      ]
    },
    {
      "cell_type": "markdown",
      "metadata": {
        "id": "w8iXIPuSD-ST"
      },
      "source": [
        "# New Section"
      ]
    },
    {
      "cell_type": "code",
      "metadata": {
        "id": "pNsp9WrDJFaq"
      },
      "source": [
        "import numpy as np\n",
        "import pandas as pd\n",
        "import seaborn as sns\n",
        "import matplotlib.pyplot as plt\n",
        "\n",
        "from sklearn.metrics import plot_roc_curve\n",
        "from sklearn.linear_model import LogisticRegression\n",
        "from sklearn.model_selection import KFold, train_test_split\n",
        "from sklearn.metrics import accuracy_score, plot_confusion_matrix\n",
        "from sklearn.model_selection import cross_val_score, cross_val_predict"
      ],
      "execution_count": null,
      "outputs": []
    },
    {
      "cell_type": "markdown",
      "metadata": {
        "id": "rbo0PPkfIXSo"
      },
      "source": [
        "#Import Data"
      ]
    },
    {
      "cell_type": "code",
      "metadata": {
        "id": "B3nvlNWiiz-K",
        "colab": {
          "base_uri": "https://localhost:8080/"
        },
        "outputId": "11824f71-6020-489b-82e4-0f79f89b78f8"
      },
      "source": [
        "from google.colab import drive\n",
        "drive.mount('/content/drive')"
      ],
      "execution_count": null,
      "outputs": [
        {
          "output_type": "stream",
          "text": [
            "Drive already mounted at /content/drive; to attempt to forcibly remount, call drive.mount(\"/content/drive\", force_remount=True).\n"
          ],
          "name": "stdout"
        }
      ]
    },
    {
      "cell_type": "code",
      "metadata": {
        "id": "M3BlkgN9I81f"
      },
      "source": [
        "df = pd.read_csv(\"/content/drive/MyDrive/ปี 2 เทอม 2 ปอม/AI_2021/ML/project/insurance_data (1).csv\")"
      ],
      "execution_count": null,
      "outputs": []
    },
    {
      "cell_type": "markdown",
      "metadata": {
        "id": "XxNvPYjZKJbZ"
      },
      "source": [
        "# Expore\n"
      ]
    },
    {
      "cell_type": "code",
      "metadata": {
        "colab": {
          "base_uri": "https://localhost:8080/"
        },
        "id": "D2BsLzwKJOaP",
        "outputId": "35516ea0-8c7a-464f-dbe2-dbf4ecc9ef28"
      },
      "source": [
        "print(df.head())"
      ],
      "execution_count": null,
      "outputs": [
        {
          "output_type": "stream",
          "text": [
            "   id  Gender  Age  ...  Policy_Sales_Channel  Vintage  Response\n",
            "0   1    Male   44  ...                  26.0      217         1\n",
            "1   2    Male   76  ...                  26.0      183         0\n",
            "2   3    Male   47  ...                  26.0       27         1\n",
            "3   4    Male   21  ...                 152.0      203         0\n",
            "4   5  Female   29  ...                 152.0       39         0\n",
            "\n",
            "[5 rows x 12 columns]\n"
          ],
          "name": "stdout"
        }
      ]
    },
    {
      "cell_type": "code",
      "metadata": {
        "colab": {
          "base_uri": "https://localhost:8080/"
        },
        "id": "uJgivei8Jdo7",
        "outputId": "28670bfa-551a-4d9b-d675-a6237c3906d4"
      },
      "source": [
        "print(df.info())\n",
        "print(df.shape)"
      ],
      "execution_count": null,
      "outputs": [
        {
          "output_type": "stream",
          "text": [
            "<class 'pandas.core.frame.DataFrame'>\n",
            "RangeIndex: 381109 entries, 0 to 381108\n",
            "Data columns (total 12 columns):\n",
            " #   Column                Non-Null Count   Dtype  \n",
            "---  ------                --------------   -----  \n",
            " 0   id                    381109 non-null  int64  \n",
            " 1   Gender                381109 non-null  object \n",
            " 2   Age                   381109 non-null  int64  \n",
            " 3   Driving_License       381109 non-null  int64  \n",
            " 4   Region_Code           381109 non-null  float64\n",
            " 5   Previously_Insured    381109 non-null  int64  \n",
            " 6   Vehicle_Age           381109 non-null  object \n",
            " 7   Vehicle_Damage        381109 non-null  object \n",
            " 8   Annual_Premium        381109 non-null  float64\n",
            " 9   Policy_Sales_Channel  381109 non-null  float64\n",
            " 10  Vintage               381109 non-null  int64  \n",
            " 11  Response              381109 non-null  int64  \n",
            "dtypes: float64(3), int64(6), object(3)\n",
            "memory usage: 34.9+ MB\n",
            "None\n",
            "(381109, 12)\n"
          ],
          "name": "stdout"
        }
      ]
    },
    {
      "cell_type": "code",
      "metadata": {
        "colab": {
          "base_uri": "https://localhost:8080/",
          "height": 288
        },
        "id": "lIXn_ljDSXIO",
        "outputId": "b81367fd-fe28-499a-f0ad-89a7dca7e08e"
      },
      "source": [
        "df.describe()"
      ],
      "execution_count": null,
      "outputs": [
        {
          "output_type": "execute_result",
          "data": {
            "text/html": [
              "<div>\n",
              "<style scoped>\n",
              "    .dataframe tbody tr th:only-of-type {\n",
              "        vertical-align: middle;\n",
              "    }\n",
              "\n",
              "    .dataframe tbody tr th {\n",
              "        vertical-align: top;\n",
              "    }\n",
              "\n",
              "    .dataframe thead th {\n",
              "        text-align: right;\n",
              "    }\n",
              "</style>\n",
              "<table border=\"1\" class=\"dataframe\">\n",
              "  <thead>\n",
              "    <tr style=\"text-align: right;\">\n",
              "      <th></th>\n",
              "      <th>id</th>\n",
              "      <th>Age</th>\n",
              "      <th>Driving_License</th>\n",
              "      <th>Region_Code</th>\n",
              "      <th>Previously_Insured</th>\n",
              "      <th>Annual_Premium</th>\n",
              "      <th>Policy_Sales_Channel</th>\n",
              "      <th>Vintage</th>\n",
              "      <th>Response</th>\n",
              "    </tr>\n",
              "  </thead>\n",
              "  <tbody>\n",
              "    <tr>\n",
              "      <th>count</th>\n",
              "      <td>381109.000000</td>\n",
              "      <td>381109.000000</td>\n",
              "      <td>381109.000000</td>\n",
              "      <td>381109.000000</td>\n",
              "      <td>381109.000000</td>\n",
              "      <td>381109.000000</td>\n",
              "      <td>381109.000000</td>\n",
              "      <td>381109.000000</td>\n",
              "      <td>381109.000000</td>\n",
              "    </tr>\n",
              "    <tr>\n",
              "      <th>mean</th>\n",
              "      <td>190555.000000</td>\n",
              "      <td>38.822584</td>\n",
              "      <td>0.997869</td>\n",
              "      <td>26.388807</td>\n",
              "      <td>0.458210</td>\n",
              "      <td>30564.389581</td>\n",
              "      <td>112.034295</td>\n",
              "      <td>154.347397</td>\n",
              "      <td>0.122563</td>\n",
              "    </tr>\n",
              "    <tr>\n",
              "      <th>std</th>\n",
              "      <td>110016.836208</td>\n",
              "      <td>15.511611</td>\n",
              "      <td>0.046110</td>\n",
              "      <td>13.229888</td>\n",
              "      <td>0.498251</td>\n",
              "      <td>17213.155057</td>\n",
              "      <td>54.203995</td>\n",
              "      <td>83.671304</td>\n",
              "      <td>0.327936</td>\n",
              "    </tr>\n",
              "    <tr>\n",
              "      <th>min</th>\n",
              "      <td>1.000000</td>\n",
              "      <td>20.000000</td>\n",
              "      <td>0.000000</td>\n",
              "      <td>0.000000</td>\n",
              "      <td>0.000000</td>\n",
              "      <td>2630.000000</td>\n",
              "      <td>1.000000</td>\n",
              "      <td>10.000000</td>\n",
              "      <td>0.000000</td>\n",
              "    </tr>\n",
              "    <tr>\n",
              "      <th>25%</th>\n",
              "      <td>95278.000000</td>\n",
              "      <td>25.000000</td>\n",
              "      <td>1.000000</td>\n",
              "      <td>15.000000</td>\n",
              "      <td>0.000000</td>\n",
              "      <td>24405.000000</td>\n",
              "      <td>29.000000</td>\n",
              "      <td>82.000000</td>\n",
              "      <td>0.000000</td>\n",
              "    </tr>\n",
              "    <tr>\n",
              "      <th>50%</th>\n",
              "      <td>190555.000000</td>\n",
              "      <td>36.000000</td>\n",
              "      <td>1.000000</td>\n",
              "      <td>28.000000</td>\n",
              "      <td>0.000000</td>\n",
              "      <td>31669.000000</td>\n",
              "      <td>133.000000</td>\n",
              "      <td>154.000000</td>\n",
              "      <td>0.000000</td>\n",
              "    </tr>\n",
              "    <tr>\n",
              "      <th>75%</th>\n",
              "      <td>285832.000000</td>\n",
              "      <td>49.000000</td>\n",
              "      <td>1.000000</td>\n",
              "      <td>35.000000</td>\n",
              "      <td>1.000000</td>\n",
              "      <td>39400.000000</td>\n",
              "      <td>152.000000</td>\n",
              "      <td>227.000000</td>\n",
              "      <td>0.000000</td>\n",
              "    </tr>\n",
              "    <tr>\n",
              "      <th>max</th>\n",
              "      <td>381109.000000</td>\n",
              "      <td>85.000000</td>\n",
              "      <td>1.000000</td>\n",
              "      <td>52.000000</td>\n",
              "      <td>1.000000</td>\n",
              "      <td>540165.000000</td>\n",
              "      <td>163.000000</td>\n",
              "      <td>299.000000</td>\n",
              "      <td>1.000000</td>\n",
              "    </tr>\n",
              "  </tbody>\n",
              "</table>\n",
              "</div>"
            ],
            "text/plain": [
              "                  id            Age  ...        Vintage       Response\n",
              "count  381109.000000  381109.000000  ...  381109.000000  381109.000000\n",
              "mean   190555.000000      38.822584  ...     154.347397       0.122563\n",
              "std    110016.836208      15.511611  ...      83.671304       0.327936\n",
              "min         1.000000      20.000000  ...      10.000000       0.000000\n",
              "25%     95278.000000      25.000000  ...      82.000000       0.000000\n",
              "50%    190555.000000      36.000000  ...     154.000000       0.000000\n",
              "75%    285832.000000      49.000000  ...     227.000000       0.000000\n",
              "max    381109.000000      85.000000  ...     299.000000       1.000000\n",
              "\n",
              "[8 rows x 9 columns]"
            ]
          },
          "metadata": {
            "tags": []
          },
          "execution_count": 68
        }
      ]
    },
    {
      "cell_type": "markdown",
      "metadata": {
        "id": "VaKaqCDuLMWX"
      },
      "source": [
        "## แปลงข้อมูล categorical เป็น numerical"
      ]
    },
    {
      "cell_type": "code",
      "metadata": {
        "colab": {
          "base_uri": "https://localhost:8080/",
          "height": 235
        },
        "id": "OJ1ZCoxxLL5f",
        "outputId": "c2298a70-b1ff-4c91-bee4-9144c930b628"
      },
      "source": [
        "df.replace(['Male', 'Female'], [1, 0], inplace=True)\n",
        "df.replace(['Yes', 'No'], [1, 0], inplace=True)\n",
        "df = pd.get_dummies(df, prefix='vehicle_age', columns=['Vehicle_Age'])\n",
        "df.head()"
      ],
      "execution_count": null,
      "outputs": [
        {
          "output_type": "execute_result",
          "data": {
            "text/html": [
              "<div>\n",
              "<style scoped>\n",
              "    .dataframe tbody tr th:only-of-type {\n",
              "        vertical-align: middle;\n",
              "    }\n",
              "\n",
              "    .dataframe tbody tr th {\n",
              "        vertical-align: top;\n",
              "    }\n",
              "\n",
              "    .dataframe thead th {\n",
              "        text-align: right;\n",
              "    }\n",
              "</style>\n",
              "<table border=\"1\" class=\"dataframe\">\n",
              "  <thead>\n",
              "    <tr style=\"text-align: right;\">\n",
              "      <th></th>\n",
              "      <th>id</th>\n",
              "      <th>Gender</th>\n",
              "      <th>Age</th>\n",
              "      <th>Driving_License</th>\n",
              "      <th>Region_Code</th>\n",
              "      <th>Previously_Insured</th>\n",
              "      <th>Vehicle_Damage</th>\n",
              "      <th>Annual_Premium</th>\n",
              "      <th>Policy_Sales_Channel</th>\n",
              "      <th>Vintage</th>\n",
              "      <th>Response</th>\n",
              "      <th>vehicle_age_1-2 Year</th>\n",
              "      <th>vehicle_age_&lt; 1 Year</th>\n",
              "      <th>vehicle_age_&gt; 2 Years</th>\n",
              "    </tr>\n",
              "  </thead>\n",
              "  <tbody>\n",
              "    <tr>\n",
              "      <th>0</th>\n",
              "      <td>1</td>\n",
              "      <td>1</td>\n",
              "      <td>44</td>\n",
              "      <td>1</td>\n",
              "      <td>28.0</td>\n",
              "      <td>0</td>\n",
              "      <td>1</td>\n",
              "      <td>40454.0</td>\n",
              "      <td>26.0</td>\n",
              "      <td>217</td>\n",
              "      <td>1</td>\n",
              "      <td>0</td>\n",
              "      <td>0</td>\n",
              "      <td>1</td>\n",
              "    </tr>\n",
              "    <tr>\n",
              "      <th>1</th>\n",
              "      <td>2</td>\n",
              "      <td>1</td>\n",
              "      <td>76</td>\n",
              "      <td>1</td>\n",
              "      <td>3.0</td>\n",
              "      <td>0</td>\n",
              "      <td>0</td>\n",
              "      <td>33536.0</td>\n",
              "      <td>26.0</td>\n",
              "      <td>183</td>\n",
              "      <td>0</td>\n",
              "      <td>1</td>\n",
              "      <td>0</td>\n",
              "      <td>0</td>\n",
              "    </tr>\n",
              "    <tr>\n",
              "      <th>2</th>\n",
              "      <td>3</td>\n",
              "      <td>1</td>\n",
              "      <td>47</td>\n",
              "      <td>1</td>\n",
              "      <td>28.0</td>\n",
              "      <td>0</td>\n",
              "      <td>1</td>\n",
              "      <td>38294.0</td>\n",
              "      <td>26.0</td>\n",
              "      <td>27</td>\n",
              "      <td>1</td>\n",
              "      <td>0</td>\n",
              "      <td>0</td>\n",
              "      <td>1</td>\n",
              "    </tr>\n",
              "    <tr>\n",
              "      <th>3</th>\n",
              "      <td>4</td>\n",
              "      <td>1</td>\n",
              "      <td>21</td>\n",
              "      <td>1</td>\n",
              "      <td>11.0</td>\n",
              "      <td>1</td>\n",
              "      <td>0</td>\n",
              "      <td>28619.0</td>\n",
              "      <td>152.0</td>\n",
              "      <td>203</td>\n",
              "      <td>0</td>\n",
              "      <td>0</td>\n",
              "      <td>1</td>\n",
              "      <td>0</td>\n",
              "    </tr>\n",
              "    <tr>\n",
              "      <th>4</th>\n",
              "      <td>5</td>\n",
              "      <td>0</td>\n",
              "      <td>29</td>\n",
              "      <td>1</td>\n",
              "      <td>41.0</td>\n",
              "      <td>1</td>\n",
              "      <td>0</td>\n",
              "      <td>27496.0</td>\n",
              "      <td>152.0</td>\n",
              "      <td>39</td>\n",
              "      <td>0</td>\n",
              "      <td>0</td>\n",
              "      <td>1</td>\n",
              "      <td>0</td>\n",
              "    </tr>\n",
              "  </tbody>\n",
              "</table>\n",
              "</div>"
            ],
            "text/plain": [
              "   id  Gender  ...  vehicle_age_< 1 Year  vehicle_age_> 2 Years\n",
              "0   1       1  ...                     0                      1\n",
              "1   2       1  ...                     0                      0\n",
              "2   3       1  ...                     0                      1\n",
              "3   4       1  ...                     1                      0\n",
              "4   5       0  ...                     1                      0\n",
              "\n",
              "[5 rows x 14 columns]"
            ]
          },
          "metadata": {
            "tags": []
          },
          "execution_count": 69
        }
      ]
    },
    {
      "cell_type": "markdown",
      "metadata": {
        "id": "amGkrSFeUIMO"
      },
      "source": [
        "## ข้อมูลเชิงคุณภาพ"
      ]
    },
    {
      "cell_type": "code",
      "metadata": {
        "colab": {
          "base_uri": "https://localhost:8080/",
          "height": 571
        },
        "id": "Vc_5pM2UKM1P",
        "outputId": "acd5ff77-ba8e-4dd3-f9b5-423b07d46157"
      },
      "source": [
        "plt.figure(figsize=(15,9))\n",
        "plt.subplot(421) \n",
        "df['Response'].value_counts(normalize=True).plot.bar(title= 'Response',rot=2) \n",
        "plt.subplot(422) \n",
        "df['Driving_License'].value_counts(normalize=True).plot.bar(title= 'Driving License',rot=2) \n",
        "plt.subplot(423) \n",
        "df['Gender'].value_counts(normalize=True).plot.bar(title= 'Gender',rot=2)\n",
        "plt.subplot(424) \n",
        "df['Previously_Insured'].value_counts(normalize=True).plot.bar(title= 'Previously Insured',rot=2)\n",
        "plt.subplot(425) \n",
        "df['Vehicle_Damage'].value_counts(normalize=True).plot.bar(title= 'Vehicle Damage',rot=2)\n",
        "plt.subplot(426) \n",
        "df['vehicle_age_1-2 Year'].value_counts(normalize=True).plot.bar(title= 'Vehicle age 1-2 years',rot=2)\n",
        "plt.subplot(427) \n",
        "df['vehicle_age_< 1 Year'].value_counts(normalize=True).plot.bar(title= 'Vehicle age less than 1 year',rot=2)\n",
        "plt.subplot(428) \n",
        "df['vehicle_age_> 2 Years'].value_counts(normalize=True).plot.bar(title= 'Vehicle age more than 2 years',rot=2)"
      ],
      "execution_count": null,
      "outputs": [
        {
          "output_type": "execute_result",
          "data": {
            "text/plain": [
              "<matplotlib.axes._subplots.AxesSubplot at 0x7fc1b5fb79d0>"
            ]
          },
          "metadata": {
            "tags": []
          },
          "execution_count": 70
        },
        {
          "output_type": "display_data",
          "data": {
            "image/png": "[encoded data removed]",
            "text/plain": [
              "<Figure size 1080x648 with 8 Axes>"
            ]
          },
          "metadata": {
            "tags": [],
            "needs_background": "light"
          }
        }
      ]
    },
    {
      "cell_type": "markdown",
      "metadata": {
        "id": "7Ahmj9bJPDaW"
      },
      "source": [
        "##ข้อมูลเชิงปริมาณ"
      ]
    },
    {
      "cell_type": "code",
      "metadata": {
        "colab": {
          "base_uri": "https://localhost:8080/",
          "height": 754
        },
        "id": "-k2cZAorP7QH",
        "outputId": "1c030b6a-1eb0-43fa-c013-4ef3ffe5a3f4"
      },
      "source": [
        "plt.figure(figsize=(15,9))\n",
        "plt.subplot(231) \n",
        "a = sns.boxplot(df['Age'])\n",
        "plt.subplot(232) \n",
        "a = sns.boxplot(df['Region_Code'])\n",
        "plt.subplot(233) \n",
        "a = sns.boxplot(df['Annual_Premium'])\n",
        "plt.subplot(234) \n",
        "a = sns.boxplot(df['Policy_Sales_Channel'])\n",
        "plt.subplot(235) \n",
        "a = sns.boxplot(df['Vintage'])"
      ],
      "execution_count": null,
      "outputs": [
        {
          "output_type": "stream",
          "text": [
            "/usr/local/lib/python3.7/dist-packages/seaborn/_decorators.py:43: FutureWarning: Pass the following variable as a keyword arg: x. From version 0.12, the only valid positional argument will be `data`, and passing other arguments without an explicit keyword will result in an error or misinterpretation.\n",
            "  FutureWarning\n",
            "/usr/local/lib/python3.7/dist-packages/seaborn/_decorators.py:43: FutureWarning: Pass the following variable as a keyword arg: x. From version 0.12, the only valid positional argument will be `data`, and passing other arguments without an explicit keyword will result in an error or misinterpretation.\n",
            "  FutureWarning\n",
            "/usr/local/lib/python3.7/dist-packages/seaborn/_decorators.py:43: FutureWarning: Pass the following variable as a keyword arg: x. From version 0.12, the only valid positional argument will be `data`, and passing other arguments without an explicit keyword will result in an error or misinterpretation.\n",
            "  FutureWarning\n",
            "/usr/local/lib/python3.7/dist-packages/seaborn/_decorators.py:43: FutureWarning: Pass the following variable as a keyword arg: x. From version 0.12, the only valid positional argument will be `data`, and passing other arguments without an explicit keyword will result in an error or misinterpretation.\n",
            "  FutureWarning\n",
            "/usr/local/lib/python3.7/dist-packages/seaborn/_decorators.py:43: FutureWarning: Pass the following variable as a keyword arg: x. From version 0.12, the only valid positional argument will be `data`, and passing other arguments without an explicit keyword will result in an error or misinterpretation.\n",
            "  FutureWarning\n"
          ],
          "name": "stderr"
        },
        {
          "output_type": "display_data",
          "data": {
            "image/png": "[encoded data removed]",
            "text/plain": [
              "<Figure size 1080x648 with 5 Axes>"
            ]
          },
          "metadata": {
            "tags": [],
            "needs_background": "light"
          }
        }
      ]
    },
    {
      "cell_type": "markdown",
      "metadata": {
        "id": "SiRAggTNJVVP"
      },
      "source": [
        "#Data preparetion\n",
        "## การเตรียมข้อมูล"
      ]
    },
    {
      "cell_type": "code",
      "metadata": {
        "colab": {
          "base_uri": "https://localhost:8080/"
        },
        "id": "hg_HAI2SKrPd",
        "outputId": "03c3a152-9234-42cd-bb5f-2357a4fce1b5"
      },
      "source": [
        "# ตรวจสอบค่า null\n",
        "df.isna().sum()"
      ],
      "execution_count": null,
      "outputs": [
        {
          "output_type": "execute_result",
          "data": {
            "text/plain": [
              "id                       0\n",
              "Gender                   0\n",
              "Age                      0\n",
              "Driving_License          0\n",
              "Region_Code              0\n",
              "Previously_Insured       0\n",
              "Vehicle_Damage           0\n",
              "Annual_Premium           0\n",
              "Policy_Sales_Channel     0\n",
              "Vintage                  0\n",
              "Response                 0\n",
              "vehicle_age_1-2 Year     0\n",
              "vehicle_age_< 1 Year     0\n",
              "vehicle_age_> 2 Years    0\n",
              "dtype: int64"
            ]
          },
          "metadata": {
            "tags": []
          },
          "execution_count": 72
        }
      ]
    },
    {
      "cell_type": "code",
      "metadata": {
        "colab": {
          "base_uri": "https://localhost:8080/"
        },
        "id": "g5lD1chcPBej",
        "outputId": "56df799f-b75c-4b17-a748-44b682756389"
      },
      "source": [
        "# กำจัด outliner ในตัวแปร Annual_Premium\n",
        "cal_Q1 = df[\"Annual_Premium\"].quantile(0.25)\n",
        "cal_Q3 = df[\"Annual_Premium\"].quantile(0.75)\n",
        "cal_IQR = cal_Q3 - cal_Q1\n",
        "cal_IQR\n",
        "\n",
        "lower_limit = cal_Q1 - 1.5 * cal_IQR\n",
        "upper_limit = cal_Q3 + 1.5 * cal_IQR\n",
        "\n",
        "df = df[(df[\"Annual_Premium\"] > lower_limit)&(df[\"Annual_Premium\"] < upper_limit)]\n",
        "df[\"Annual_Premium\"]"
      ],
      "execution_count": null,
      "outputs": [
        {
          "output_type": "execute_result",
          "data": {
            "text/plain": [
              "0         40454.0\n",
              "1         33536.0\n",
              "2         38294.0\n",
              "3         28619.0\n",
              "4         27496.0\n",
              "           ...   \n",
              "381104    30170.0\n",
              "381105    40016.0\n",
              "381106    35118.0\n",
              "381107    44617.0\n",
              "381108    41777.0\n",
              "Name: Annual_Premium, Length: 370789, dtype: float64"
            ]
          },
          "metadata": {
            "tags": []
          },
          "execution_count": 73
        }
      ]
    },
    {
      "cell_type": "markdown",
      "metadata": {
        "id": "EySR0e6bKnYc"
      },
      "source": [
        "## Data imbalance problem\n",
        "* ตัวแปร Responce มีข้อมูล 2 กลุ่มแตกต่างกันมากจนเกินไป จึงใช้วิธี Random Under-Sampling และ Random Under-Sampling ในการแก้\n",
        "\n",
        " <img src=\"https://miro.medium.com/max/725/1*H6XodlitlGDl9YdbwaZLMw.png\" width=\"800\">\n"
      ]
    },
    {
      "cell_type": "code",
      "metadata": {
        "colab": {
          "base_uri": "https://localhost:8080/"
        },
        "id": "AL-0uuSWGOp4",
        "outputId": "d6274772-3e5c-4a7b-f65a-b242c778226d"
      },
      "source": [
        "response_count_0, response_count_1 = df['Response'].value_counts()\n",
        "\n",
        "response_0 = df[df['Response'] == 0]\n",
        "response_1 = df[df['Response'] == 1]\n",
        "print('response 0:', response_0.shape)\n",
        "print('response 1:', response_1.shape)"
      ],
      "execution_count": null,
      "outputs": [
        {
          "output_type": "stream",
          "text": [
            "response 0: (325634, 14)\n",
            "response 1: (45155, 14)\n"
          ],
          "name": "stdout"
        }
      ]
    },
    {
      "cell_type": "code",
      "metadata": {
        "colab": {
          "base_uri": "https://localhost:8080/",
          "height": 495
        },
        "id": "MTEa9gG_C_pL",
        "outputId": "cfe27191-f5a8-4bbe-f0f0-06c2ad9997d6"
      },
      "source": [
        "# Random Under-Sampling\n",
        "response_0_under = response_0.sample(response_count_1)\n",
        "test_under = pd.concat([response_0_under, response_1], axis=0)\n",
        "\n",
        "# Random Over-Sampling\n",
        "response_1_over = response_1.sample(response_count_0, replace=True)\n",
        "test_over = pd.concat([response_1_over, response_0], axis=0)\n",
        "\n",
        "plt.figure(figsize=(10,5))\n",
        "plt.subplot(121)\n",
        "print(\"Random Under-Sampling:\\n\",test_under['Response'].value_counts())\n",
        "test_under['Response'].value_counts().plot(kind='bar', title='Random Under-Sampling')\n",
        "plt.subplot(122)\n",
        "print(\"Random Over-Sampling\\n\",test_over['Response'].value_counts())\n",
        "test_over['Response'].value_counts().plot(kind='bar', title='Random Over-Sampling')"
      ],
      "execution_count": null,
      "outputs": [
        {
          "output_type": "stream",
          "text": [
            "Random Under-Sampling:\n",
            " 1    45155\n",
            "0    45155\n",
            "Name: Response, dtype: int64\n",
            "Random Over-Sampling\n",
            " 1    325634\n",
            "0    325634\n",
            "Name: Response, dtype: int64\n"
          ],
          "name": "stdout"
        },
        {
          "output_type": "execute_result",
          "data": {
            "text/plain": [
              "<matplotlib.axes._subplots.AxesSubplot at 0x7fc1c071bb90>"
            ]
          },
          "metadata": {
            "tags": []
          },
          "execution_count": 75
        },
        {
          "output_type": "display_data",
          "data": {
            "image/png": "[encoded data removed]",
            "text/plain": [
              "<Figure size 720x360 with 2 Axes>"
            ]
          },
          "metadata": {
            "tags": [],
            "needs_background": "light"
          }
        }
      ]
    },
    {
      "cell_type": "markdown",
      "metadata": {
        "id": "LcA6NdneQyuE"
      },
      "source": [
        "#Logistic Regression"
      ]
    },
    {
      "cell_type": "markdown",
      "metadata": {
        "id": "h8cPn0woNL6C"
      },
      "source": [
        "##Random Under-Sampling"
      ]
    },
    {
      "cell_type": "code",
      "metadata": {
        "colab": {
          "base_uri": "https://localhost:8080/"
        },
        "id": "DweP21UxPCla",
        "outputId": "30faa0c7-1ed4-4ea1-8873-fa673ebf158f"
      },
      "source": [
        "test_under.info()"
      ],
      "execution_count": null,
      "outputs": [
        {
          "output_type": "stream",
          "text": [
            "<class 'pandas.core.frame.DataFrame'>\n",
            "Int64Index: 90310 entries, 377319 to 381097\n",
            "Data columns (total 14 columns):\n",
            " #   Column                 Non-Null Count  Dtype  \n",
            "---  ------                 --------------  -----  \n",
            " 0   id                     90310 non-null  int64  \n",
            " 1   Gender                 90310 non-null  int64  \n",
            " 2   Age                    90310 non-null  int64  \n",
            " 3   Driving_License        90310 non-null  int64  \n",
            " 4   Region_Code            90310 non-null  float64\n",
            " 5   Previously_Insured     90310 non-null  int64  \n",
            " 6   Vehicle_Damage         90310 non-null  int64  \n",
            " 7   Annual_Premium         90310 non-null  float64\n",
            " 8   Policy_Sales_Channel   90310 non-null  float64\n",
            " 9   Vintage                90310 non-null  int64  \n",
            " 10  Response               90310 non-null  int64  \n",
            " 11  vehicle_age_1-2 Year   90310 non-null  uint8  \n",
            " 12  vehicle_age_< 1 Year   90310 non-null  uint8  \n",
            " 13  vehicle_age_> 2 Years  90310 non-null  uint8  \n",
            "dtypes: float64(3), int64(8), uint8(3)\n",
            "memory usage: 8.5 MB\n"
          ],
          "name": "stdout"
        }
      ]
    },
    {
      "cell_type": "code",
      "metadata": {
        "id": "Lyb63BNBNGl2",
        "colab": {
          "base_uri": "https://localhost:8080/",
          "height": 407
        },
        "outputId": "cb272b69-d30c-4d45-8b50-15e2cea7ee80"
      },
      "source": [
        "df_under = test_under.drop(['Driving_License','vehicle_age_> 2 Years','id'], axis=1)\n",
        "df_under"
      ],
      "execution_count": null,
      "outputs": [
        {
          "output_type": "execute_result",
          "data": {
            "text/html": [
              "<div>\n",
              "<style scoped>\n",
              "    .dataframe tbody tr th:only-of-type {\n",
              "        vertical-align: middle;\n",
              "    }\n",
              "\n",
              "    .dataframe tbody tr th {\n",
              "        vertical-align: top;\n",
              "    }\n",
              "\n",
              "    .dataframe thead th {\n",
              "        text-align: right;\n",
              "    }\n",
              "</style>\n",
              "<table border=\"1\" class=\"dataframe\">\n",
              "  <thead>\n",
              "    <tr style=\"text-align: right;\">\n",
              "      <th></th>\n",
              "      <th>Gender</th>\n",
              "      <th>Age</th>\n",
              "      <th>Region_Code</th>\n",
              "      <th>Previously_Insured</th>\n",
              "      <th>Vehicle_Damage</th>\n",
              "      <th>Annual_Premium</th>\n",
              "      <th>Policy_Sales_Channel</th>\n",
              "      <th>Vintage</th>\n",
              "      <th>Response</th>\n",
              "      <th>vehicle_age_1-2 Year</th>\n",
              "      <th>vehicle_age_&lt; 1 Year</th>\n",
              "    </tr>\n",
              "  </thead>\n",
              "  <tbody>\n",
              "    <tr>\n",
              "      <th>377319</th>\n",
              "      <td>1</td>\n",
              "      <td>30</td>\n",
              "      <td>28.0</td>\n",
              "      <td>1</td>\n",
              "      <td>0</td>\n",
              "      <td>29936.0</td>\n",
              "      <td>26.0</td>\n",
              "      <td>23</td>\n",
              "      <td>0</td>\n",
              "      <td>1</td>\n",
              "      <td>0</td>\n",
              "    </tr>\n",
              "    <tr>\n",
              "      <th>29389</th>\n",
              "      <td>1</td>\n",
              "      <td>22</td>\n",
              "      <td>15.0</td>\n",
              "      <td>0</td>\n",
              "      <td>1</td>\n",
              "      <td>42162.0</td>\n",
              "      <td>26.0</td>\n",
              "      <td>186</td>\n",
              "      <td>0</td>\n",
              "      <td>0</td>\n",
              "      <td>1</td>\n",
              "    </tr>\n",
              "    <tr>\n",
              "      <th>347552</th>\n",
              "      <td>0</td>\n",
              "      <td>26</td>\n",
              "      <td>13.0</td>\n",
              "      <td>1</td>\n",
              "      <td>1</td>\n",
              "      <td>26862.0</td>\n",
              "      <td>152.0</td>\n",
              "      <td>167</td>\n",
              "      <td>0</td>\n",
              "      <td>0</td>\n",
              "      <td>1</td>\n",
              "    </tr>\n",
              "    <tr>\n",
              "      <th>264683</th>\n",
              "      <td>0</td>\n",
              "      <td>25</td>\n",
              "      <td>3.0</td>\n",
              "      <td>1</td>\n",
              "      <td>0</td>\n",
              "      <td>23143.0</td>\n",
              "      <td>152.0</td>\n",
              "      <td>116</td>\n",
              "      <td>0</td>\n",
              "      <td>0</td>\n",
              "      <td>1</td>\n",
              "    </tr>\n",
              "    <tr>\n",
              "      <th>147280</th>\n",
              "      <td>0</td>\n",
              "      <td>22</td>\n",
              "      <td>17.0</td>\n",
              "      <td>0</td>\n",
              "      <td>1</td>\n",
              "      <td>33619.0</td>\n",
              "      <td>26.0</td>\n",
              "      <td>133</td>\n",
              "      <td>0</td>\n",
              "      <td>1</td>\n",
              "      <td>0</td>\n",
              "    </tr>\n",
              "    <tr>\n",
              "      <th>...</th>\n",
              "      <td>...</td>\n",
              "      <td>...</td>\n",
              "      <td>...</td>\n",
              "      <td>...</td>\n",
              "      <td>...</td>\n",
              "      <td>...</td>\n",
              "      <td>...</td>\n",
              "      <td>...</td>\n",
              "      <td>...</td>\n",
              "      <td>...</td>\n",
              "      <td>...</td>\n",
              "    </tr>\n",
              "    <tr>\n",
              "      <th>381057</th>\n",
              "      <td>1</td>\n",
              "      <td>40</td>\n",
              "      <td>46.0</td>\n",
              "      <td>0</td>\n",
              "      <td>1</td>\n",
              "      <td>27508.0</td>\n",
              "      <td>26.0</td>\n",
              "      <td>189</td>\n",
              "      <td>1</td>\n",
              "      <td>1</td>\n",
              "      <td>0</td>\n",
              "    </tr>\n",
              "    <tr>\n",
              "      <th>381061</th>\n",
              "      <td>0</td>\n",
              "      <td>41</td>\n",
              "      <td>28.0</td>\n",
              "      <td>0</td>\n",
              "      <td>1</td>\n",
              "      <td>37377.0</td>\n",
              "      <td>124.0</td>\n",
              "      <td>99</td>\n",
              "      <td>1</td>\n",
              "      <td>1</td>\n",
              "      <td>0</td>\n",
              "    </tr>\n",
              "    <tr>\n",
              "      <th>381073</th>\n",
              "      <td>0</td>\n",
              "      <td>46</td>\n",
              "      <td>28.0</td>\n",
              "      <td>0</td>\n",
              "      <td>1</td>\n",
              "      <td>34741.0</td>\n",
              "      <td>124.0</td>\n",
              "      <td>167</td>\n",
              "      <td>1</td>\n",
              "      <td>1</td>\n",
              "      <td>0</td>\n",
              "    </tr>\n",
              "    <tr>\n",
              "      <th>381075</th>\n",
              "      <td>0</td>\n",
              "      <td>61</td>\n",
              "      <td>28.0</td>\n",
              "      <td>0</td>\n",
              "      <td>1</td>\n",
              "      <td>43875.0</td>\n",
              "      <td>26.0</td>\n",
              "      <td>139</td>\n",
              "      <td>1</td>\n",
              "      <td>1</td>\n",
              "      <td>0</td>\n",
              "    </tr>\n",
              "    <tr>\n",
              "      <th>381097</th>\n",
              "      <td>0</td>\n",
              "      <td>38</td>\n",
              "      <td>28.0</td>\n",
              "      <td>0</td>\n",
              "      <td>1</td>\n",
              "      <td>52742.0</td>\n",
              "      <td>26.0</td>\n",
              "      <td>165</td>\n",
              "      <td>1</td>\n",
              "      <td>1</td>\n",
              "      <td>0</td>\n",
              "    </tr>\n",
              "  </tbody>\n",
              "</table>\n",
              "<p>90310 rows × 11 columns</p>\n",
              "</div>"
            ],
            "text/plain": [
              "        Gender  Age  ...  vehicle_age_1-2 Year  vehicle_age_< 1 Year\n",
              "377319       1   30  ...                     1                     0\n",
              "29389        1   22  ...                     0                     1\n",
              "347552       0   26  ...                     0                     1\n",
              "264683       0   25  ...                     0                     1\n",
              "147280       0   22  ...                     1                     0\n",
              "...        ...  ...  ...                   ...                   ...\n",
              "381057       1   40  ...                     1                     0\n",
              "381061       0   41  ...                     1                     0\n",
              "381073       0   46  ...                     1                     0\n",
              "381075       0   61  ...                     1                     0\n",
              "381097       0   38  ...                     1                     0\n",
              "\n",
              "[90310 rows x 11 columns]"
            ]
          },
          "metadata": {
            "tags": []
          },
          "execution_count": 77
        }
      ]
    },
    {
      "cell_type": "code",
      "metadata": {
        "colab": {
          "base_uri": "https://localhost:8080/",
          "height": 706
        },
        "id": "aGf6x-EF-a7p",
        "outputId": "3dfcc741-2909-4662-b5c0-3ca945d260d1"
      },
      "source": [
        "corr = df_under.corr(method='spearman')\n",
        "mask = np.zeros_like(corr, dtype=np.bool)\n",
        "mask[np.triu_indices_from(mask)] = True\n",
        "\n",
        "f, ax = plt.subplots(figsize=(15, 10))\n",
        "\n",
        "sns.heatmap(corr, annot = True, mask=mask, cmap=\"RdYlGn\", center=0,\n",
        "            square=True, linewidths=.5)"
      ],
      "execution_count": null,
      "outputs": [
        {
          "output_type": "execute_result",
          "data": {
            "text/plain": [
              "<matplotlib.axes._subplots.AxesSubplot at 0x7fc1c0703c90>"
            ]
          },
          "metadata": {
            "tags": []
          },
          "execution_count": 78
        },
        {
          "output_type": "display_data",
          "data": {
            "image/png": "[encoded data removed]",
            "text/plain": [
              "<Figure size 1080x720 with 2 Axes>"
            ]
          },
          "metadata": {
            "tags": [],
            "needs_background": "light"
          }
        }
      ]
    },
    {
      "cell_type": "markdown",
      "metadata": {
        "id": "pNCajEvpFVSD"
      },
      "source": [
        "### Train Test Split"
      ]
    },
    {
      "cell_type": "code",
      "metadata": {
        "id": "XFJLGVBuROHM"
      },
      "source": [
        "X = df_under.drop('Response', axis=1)\n",
        "y = df_under.Response\n",
        "\n",
        "x_train_under, x_test_under, y_train_under, y_test_under = train_test_split(X, y, test_size=0.3, random_state=10)"
      ],
      "execution_count": null,
      "outputs": []
    },
    {
      "cell_type": "code",
      "metadata": {
        "colab": {
          "base_uri": "https://localhost:8080/",
          "height": 350
        },
        "id": "MtzwshjvRcVD",
        "outputId": "92414b41-7c65-4e88-f669-67da8a08e2a3"
      },
      "source": [
        "plt.figure(figsize=(10,5))\n",
        "plt.subplot(121)\n",
        "plt.title('Train target')\n",
        "y_train_under.value_counts().plot(kind='bar')\n",
        "plt.subplot(122)\n",
        "plt.title('Test target')\n",
        "y_test_under.value_counts().plot(kind='bar')"
      ],
      "execution_count": null,
      "outputs": [
        {
          "output_type": "execute_result",
          "data": {
            "text/plain": [
              "<matplotlib.axes._subplots.AxesSubplot at 0x7fc1c06ca950>"
            ]
          },
          "metadata": {
            "tags": []
          },
          "execution_count": 80
        },
        {
          "output_type": "display_data",
          "data": {
            "image/png": "[encoded data removed]",
            "text/plain": [
              "<Figure size 720x360 with 2 Axes>"
            ]
          },
          "metadata": {
            "tags": [],
            "needs_background": "light"
          }
        }
      ]
    },
    {
      "cell_type": "markdown",
      "metadata": {
        "id": "Q9iik_0uFXaL"
      },
      "source": [
        "### Model"
      ]
    },
    {
      "cell_type": "code",
      "metadata": {
        "colab": {
          "base_uri": "https://localhost:8080/"
        },
        "id": "cF2yNoCWPp1j",
        "outputId": "87d77f29-328e-4ac1-d184-246b65e1ea56"
      },
      "source": [
        "# Create model - use solver='liblinear'\n",
        "clf_lr_under = LogisticRegression(random_state=0, solver='liblinear')\n",
        "\n",
        "# Train model\n",
        "clf_lr_under.fit(x_train_under, y_train_under)"
      ],
      "execution_count": null,
      "outputs": [
        {
          "output_type": "execute_result",
          "data": {
            "text/plain": [
              "LogisticRegression(C=1.0, class_weight=None, dual=False, fit_intercept=True,\n",
              "                   intercept_scaling=1, l1_ratio=None, max_iter=100,\n",
              "                   multi_class='auto', n_jobs=None, penalty='l2',\n",
              "                   random_state=0, solver='liblinear', tol=0.0001, verbose=0,\n",
              "                   warm_start=False)"
            ]
          },
          "metadata": {
            "tags": []
          },
          "execution_count": 81
        }
      ]
    },
    {
      "cell_type": "code",
      "metadata": {
        "colab": {
          "base_uri": "https://localhost:8080/"
        },
        "id": "0Stg6mLeRpyM",
        "outputId": "58727be2-2c7a-4d36-b257-f747bd0a3f64"
      },
      "source": [
        "# Predict\n",
        "lr_y_pred_under = clf_lr_under.predict(x_test_under)\n",
        "\n",
        "print(f'Test data accuracy score: {np.round(clf_lr_under.score(x_test_under, y_test_under), 2)*100}%')\n",
        "print(f'Cross val score: {np.mean(cross_val_score(clf_lr_under, X, y, cv=5, n_jobs=-1)).round(2)}')"
      ],
      "execution_count": null,
      "outputs": [
        {
          "output_type": "stream",
          "text": [
            "Test data accuracy score: 78.0%\n",
            "Cross val score: 0.78\n"
          ],
          "name": "stdout"
        }
      ]
    },
    {
      "cell_type": "code",
      "metadata": {
        "colab": {
          "base_uri": "https://localhost:8080/",
          "height": 297
        },
        "id": "clg4kXXYRtKs",
        "outputId": "b5908716-3270-48cf-a80d-6e94154270c1"
      },
      "source": [
        "# Confusion matrix\n",
        "plot_confusion_matrix(clf_lr_under, x_test_under, y_test_under, cmap='Blues', values_format='d')"
      ],
      "execution_count": null,
      "outputs": [
        {
          "output_type": "execute_result",
          "data": {
            "text/plain": [
              "<sklearn.metrics._plot.confusion_matrix.ConfusionMatrixDisplay at 0x7fc1c07abd50>"
            ]
          },
          "metadata": {
            "tags": []
          },
          "execution_count": 83
        },
        {
          "output_type": "display_data",
          "data": {
            "image/png": "[encoded data removed]",
            "text/plain": [
              "<Figure size 432x288 with 2 Axes>"
            ]
          },
          "metadata": {
            "tags": [],
            "needs_background": "light"
          }
        }
      ]
    },
    {
      "cell_type": "code",
      "metadata": {
        "colab": {
          "base_uri": "https://localhost:8080/",
          "height": 279
        },
        "id": "BAToO8vgRv8s",
        "outputId": "3113883c-17d8-4d2f-b4f8-fc190738ed84"
      },
      "source": [
        "# AUC ROC curve\n",
        "plot_roc_curve(clf_lr_under, x_test_under, y_test_under)\n",
        "plt.grid()"
      ],
      "execution_count": null,
      "outputs": [
        {
          "output_type": "display_data",
          "data": {
            "image/png": "[encoded data removed]",
            "text/plain": [
              "<Figure size 432x288 with 1 Axes>"
            ]
          },
          "metadata": {
            "tags": [],
            "needs_background": "light"
          }
        }
      ]
    },
    {
      "cell_type": "code",
      "metadata": {
        "colab": {
          "base_uri": "https://localhost:8080/",
          "height": 416
        },
        "id": "vPWmzRPCR1f8",
        "outputId": "8c000b1e-92ec-4276-c1d6-ba4d3a47f52c"
      },
      "source": [
        "clf_lr_under.coef_\n",
        "plt.figure(figsize=(10, 5))\n",
        "plt.bar(x_train_under.columns, clf_lr_under.coef_[0])\n",
        "plt.xticks(rotation=90)\n",
        "plt.show()"
      ],
      "execution_count": null,
      "outputs": [
        {
          "output_type": "display_data",
          "data": {
            "image/png": "[encoded data removed]",
            "text/plain": [
              "<Figure size 720x360 with 1 Axes>"
            ]
          },
          "metadata": {
            "tags": [],
            "needs_background": "light"
          }
        }
      ]
    },
    {
      "cell_type": "markdown",
      "metadata": {
        "id": "55vEKx8M_lv6"
      },
      "source": [
        "## Random Over-Sampling"
      ]
    },
    {
      "cell_type": "code",
      "metadata": {
        "id": "AKf_FOZUDi_0",
        "colab": {
          "base_uri": "https://localhost:8080/"
        },
        "outputId": "b1afe266-d784-4d90-a8ae-16ef7af34ba4"
      },
      "source": [
        "test_over.info()"
      ],
      "execution_count": null,
      "outputs": [
        {
          "output_type": "stream",
          "text": [
            "<class 'pandas.core.frame.DataFrame'>\n",
            "Int64Index: 651268 entries, 73128 to 381108\n",
            "Data columns (total 14 columns):\n",
            " #   Column                 Non-Null Count   Dtype  \n",
            "---  ------                 --------------   -----  \n",
            " 0   id                     651268 non-null  int64  \n",
            " 1   Gender                 651268 non-null  int64  \n",
            " 2   Age                    651268 non-null  int64  \n",
            " 3   Driving_License        651268 non-null  int64  \n",
            " 4   Region_Code            651268 non-null  float64\n",
            " 5   Previously_Insured     651268 non-null  int64  \n",
            " 6   Vehicle_Damage         651268 non-null  int64  \n",
            " 7   Annual_Premium         651268 non-null  float64\n",
            " 8   Policy_Sales_Channel   651268 non-null  float64\n",
            " 9   Vintage                651268 non-null  int64  \n",
            " 10  Response               651268 non-null  int64  \n",
            " 11  vehicle_age_1-2 Year   651268 non-null  uint8  \n",
            " 12  vehicle_age_< 1 Year   651268 non-null  uint8  \n",
            " 13  vehicle_age_> 2 Years  651268 non-null  uint8  \n",
            "dtypes: float64(3), int64(8), uint8(3)\n",
            "memory usage: 61.5 MB\n"
          ],
          "name": "stdout"
        }
      ]
    },
    {
      "cell_type": "code",
      "metadata": {
        "id": "hisVca6z7pLR",
        "colab": {
          "base_uri": "https://localhost:8080/",
          "height": 407
        },
        "outputId": "19a6b730-7521-454f-a8b2-346fc6ae6712"
      },
      "source": [
        "df_over = test_over.drop(['Driving_License','vehicle_age_> 2 Years','id'], axis=1)\n",
        "df_over"
      ],
      "execution_count": null,
      "outputs": [
        {
          "output_type": "execute_result",
          "data": {
            "text/html": [
              "<div>\n",
              "<style scoped>\n",
              "    .dataframe tbody tr th:only-of-type {\n",
              "        vertical-align: middle;\n",
              "    }\n",
              "\n",
              "    .dataframe tbody tr th {\n",
              "        vertical-align: top;\n",
              "    }\n",
              "\n",
              "    .dataframe thead th {\n",
              "        text-align: right;\n",
              "    }\n",
              "</style>\n",
              "<table border=\"1\" class=\"dataframe\">\n",
              "  <thead>\n",
              "    <tr style=\"text-align: right;\">\n",
              "      <th></th>\n",
              "      <th>Gender</th>\n",
              "      <th>Age</th>\n",
              "      <th>Region_Code</th>\n",
              "      <th>Previously_Insured</th>\n",
              "      <th>Vehicle_Damage</th>\n",
              "      <th>Annual_Premium</th>\n",
              "      <th>Policy_Sales_Channel</th>\n",
              "      <th>Vintage</th>\n",
              "      <th>Response</th>\n",
              "      <th>vehicle_age_1-2 Year</th>\n",
              "      <th>vehicle_age_&lt; 1 Year</th>\n",
              "    </tr>\n",
              "  </thead>\n",
              "  <tbody>\n",
              "    <tr>\n",
              "      <th>73128</th>\n",
              "      <td>1</td>\n",
              "      <td>38</td>\n",
              "      <td>28.0</td>\n",
              "      <td>0</td>\n",
              "      <td>1</td>\n",
              "      <td>53072.0</td>\n",
              "      <td>152.0</td>\n",
              "      <td>215</td>\n",
              "      <td>1</td>\n",
              "      <td>1</td>\n",
              "      <td>0</td>\n",
              "    </tr>\n",
              "    <tr>\n",
              "      <th>301747</th>\n",
              "      <td>0</td>\n",
              "      <td>62</td>\n",
              "      <td>3.0</td>\n",
              "      <td>0</td>\n",
              "      <td>1</td>\n",
              "      <td>24077.0</td>\n",
              "      <td>26.0</td>\n",
              "      <td>273</td>\n",
              "      <td>1</td>\n",
              "      <td>1</td>\n",
              "      <td>0</td>\n",
              "    </tr>\n",
              "    <tr>\n",
              "      <th>200730</th>\n",
              "      <td>1</td>\n",
              "      <td>58</td>\n",
              "      <td>28.0</td>\n",
              "      <td>0</td>\n",
              "      <td>1</td>\n",
              "      <td>50119.0</td>\n",
              "      <td>26.0</td>\n",
              "      <td>181</td>\n",
              "      <td>1</td>\n",
              "      <td>0</td>\n",
              "      <td>0</td>\n",
              "    </tr>\n",
              "    <tr>\n",
              "      <th>242097</th>\n",
              "      <td>1</td>\n",
              "      <td>41</td>\n",
              "      <td>28.0</td>\n",
              "      <td>0</td>\n",
              "      <td>0</td>\n",
              "      <td>27120.0</td>\n",
              "      <td>26.0</td>\n",
              "      <td>258</td>\n",
              "      <td>1</td>\n",
              "      <td>1</td>\n",
              "      <td>0</td>\n",
              "    </tr>\n",
              "    <tr>\n",
              "      <th>197647</th>\n",
              "      <td>1</td>\n",
              "      <td>54</td>\n",
              "      <td>46.0</td>\n",
              "      <td>0</td>\n",
              "      <td>1</td>\n",
              "      <td>27023.0</td>\n",
              "      <td>26.0</td>\n",
              "      <td>230</td>\n",
              "      <td>1</td>\n",
              "      <td>1</td>\n",
              "      <td>0</td>\n",
              "    </tr>\n",
              "    <tr>\n",
              "      <th>...</th>\n",
              "      <td>...</td>\n",
              "      <td>...</td>\n",
              "      <td>...</td>\n",
              "      <td>...</td>\n",
              "      <td>...</td>\n",
              "      <td>...</td>\n",
              "      <td>...</td>\n",
              "      <td>...</td>\n",
              "      <td>...</td>\n",
              "      <td>...</td>\n",
              "      <td>...</td>\n",
              "    </tr>\n",
              "    <tr>\n",
              "      <th>381104</th>\n",
              "      <td>1</td>\n",
              "      <td>74</td>\n",
              "      <td>26.0</td>\n",
              "      <td>1</td>\n",
              "      <td>0</td>\n",
              "      <td>30170.0</td>\n",
              "      <td>26.0</td>\n",
              "      <td>88</td>\n",
              "      <td>0</td>\n",
              "      <td>1</td>\n",
              "      <td>0</td>\n",
              "    </tr>\n",
              "    <tr>\n",
              "      <th>381105</th>\n",
              "      <td>1</td>\n",
              "      <td>30</td>\n",
              "      <td>37.0</td>\n",
              "      <td>1</td>\n",
              "      <td>0</td>\n",
              "      <td>40016.0</td>\n",
              "      <td>152.0</td>\n",
              "      <td>131</td>\n",
              "      <td>0</td>\n",
              "      <td>0</td>\n",
              "      <td>1</td>\n",
              "    </tr>\n",
              "    <tr>\n",
              "      <th>381106</th>\n",
              "      <td>1</td>\n",
              "      <td>21</td>\n",
              "      <td>30.0</td>\n",
              "      <td>1</td>\n",
              "      <td>0</td>\n",
              "      <td>35118.0</td>\n",
              "      <td>160.0</td>\n",
              "      <td>161</td>\n",
              "      <td>0</td>\n",
              "      <td>0</td>\n",
              "      <td>1</td>\n",
              "    </tr>\n",
              "    <tr>\n",
              "      <th>381107</th>\n",
              "      <td>0</td>\n",
              "      <td>68</td>\n",
              "      <td>14.0</td>\n",
              "      <td>0</td>\n",
              "      <td>1</td>\n",
              "      <td>44617.0</td>\n",
              "      <td>124.0</td>\n",
              "      <td>74</td>\n",
              "      <td>0</td>\n",
              "      <td>0</td>\n",
              "      <td>0</td>\n",
              "    </tr>\n",
              "    <tr>\n",
              "      <th>381108</th>\n",
              "      <td>1</td>\n",
              "      <td>46</td>\n",
              "      <td>29.0</td>\n",
              "      <td>0</td>\n",
              "      <td>0</td>\n",
              "      <td>41777.0</td>\n",
              "      <td>26.0</td>\n",
              "      <td>237</td>\n",
              "      <td>0</td>\n",
              "      <td>1</td>\n",
              "      <td>0</td>\n",
              "    </tr>\n",
              "  </tbody>\n",
              "</table>\n",
              "<p>651268 rows × 11 columns</p>\n",
              "</div>"
            ],
            "text/plain": [
              "        Gender  Age  ...  vehicle_age_1-2 Year  vehicle_age_< 1 Year\n",
              "73128        1   38  ...                     1                     0\n",
              "301747       0   62  ...                     1                     0\n",
              "200730       1   58  ...                     0                     0\n",
              "242097       1   41  ...                     1                     0\n",
              "197647       1   54  ...                     1                     0\n",
              "...        ...  ...  ...                   ...                   ...\n",
              "381104       1   74  ...                     1                     0\n",
              "381105       1   30  ...                     0                     1\n",
              "381106       1   21  ...                     0                     1\n",
              "381107       0   68  ...                     0                     0\n",
              "381108       1   46  ...                     1                     0\n",
              "\n",
              "[651268 rows x 11 columns]"
            ]
          },
          "metadata": {
            "tags": []
          },
          "execution_count": 87
        }
      ]
    },
    {
      "cell_type": "code",
      "metadata": {
        "id": "e2as4-eJIfYt",
        "colab": {
          "base_uri": "https://localhost:8080/",
          "height": 706
        },
        "outputId": "fcd783c1-0243-4a94-8b60-818731214f5c"
      },
      "source": [
        "corr = df_over.corr(method='spearman')\n",
        "mask = np.zeros_like(corr, dtype=np.bool)\n",
        "mask[np.triu_indices_from(mask)] = True\n",
        "\n",
        "f, ax = plt.subplots(figsize=(15, 10))\n",
        "\n",
        "sns.heatmap(corr, annot = True, mask=mask, cmap=\"RdYlGn\", center=0,\n",
        "            square=True, linewidths=.5)"
      ],
      "execution_count": null,
      "outputs": [
        {
          "output_type": "execute_result",
          "data": {
            "text/plain": [
              "<matplotlib.axes._subplots.AxesSubplot at 0x7fc1b56c18d0>"
            ]
          },
          "metadata": {
            "tags": []
          },
          "execution_count": 98
        },
        {
          "output_type": "display_data",
          "data": {
            "image/png": "[encoded data removed]",
            "text/plain": [
              "<Figure size 1080x720 with 2 Axes>"
            ]
          },
          "metadata": {
            "tags": [],
            "needs_background": "light"
          }
        }
      ]
    },
    {
      "cell_type": "markdown",
      "metadata": {
        "id": "EF_t3gQdGBaN"
      },
      "source": [
        "### Train Test Split"
      ]
    },
    {
      "cell_type": "code",
      "metadata": {
        "id": "JH4WyOD5Abwz"
      },
      "source": [
        "X = df_over.drop('Response', axis=1)\n",
        "y = df_over.Response\n",
        "\n",
        "x_train_over, x_test_over, y_train_over, y_test_over = train_test_split(X, y, test_size=0.3, random_state=10)"
      ],
      "execution_count": null,
      "outputs": []
    },
    {
      "cell_type": "code",
      "metadata": {
        "id": "sqTSUQHEGJmq",
        "colab": {
          "base_uri": "https://localhost:8080/",
          "height": 350
        },
        "outputId": "f77cafd9-7c7b-4bfd-d486-b870b70e1ee9"
      },
      "source": [
        "plt.figure(figsize=(10,5))\n",
        "plt.subplot(121)\n",
        "plt.title('Train target')\n",
        "y_train_over.value_counts().plot(kind='bar')\n",
        "plt.subplot(122)\n",
        "plt.title('Test target')\n",
        "y_test_over.value_counts().plot(kind='bar')"
      ],
      "execution_count": null,
      "outputs": [
        {
          "output_type": "execute_result",
          "data": {
            "text/plain": [
              "<matplotlib.axes._subplots.AxesSubplot at 0x7fc1b5a31f50>"
            ]
          },
          "metadata": {
            "tags": []
          },
          "execution_count": 90
        },
        {
          "output_type": "display_data",
          "data": {
            "image/png": "[encoded data removed]",
            "text/plain": [
              "<Figure size 720x360 with 2 Axes>"
            ]
          },
          "metadata": {
            "tags": [],
            "needs_background": "light"
          }
        }
      ]
    },
    {
      "cell_type": "markdown",
      "metadata": {
        "id": "uVdTGPhZGyXM"
      },
      "source": [
        "### Model"
      ]
    },
    {
      "cell_type": "code",
      "metadata": {
        "id": "ihCZXEExAlRL",
        "colab": {
          "base_uri": "https://localhost:8080/"
        },
        "outputId": "7e079232-3863-467e-cb52-a94677dbd110"
      },
      "source": [
        "# Create model - use solver='liblinear'\n",
        "clf_lr_over = LogisticRegression(random_state=0, solver='liblinear')\n",
        "\n",
        "# Train model\n",
        "clf_lr_over.fit(x_train_over, y_train_over)"
      ],
      "execution_count": null,
      "outputs": [
        {
          "output_type": "execute_result",
          "data": {
            "text/plain": [
              "LogisticRegression(C=1.0, class_weight=None, dual=False, fit_intercept=True,\n",
              "                   intercept_scaling=1, l1_ratio=None, max_iter=100,\n",
              "                   multi_class='auto', n_jobs=None, penalty='l2',\n",
              "                   random_state=0, solver='liblinear', tol=0.0001, verbose=0,\n",
              "                   warm_start=False)"
            ]
          },
          "metadata": {
            "tags": []
          },
          "execution_count": 91
        }
      ]
    },
    {
      "cell_type": "code",
      "metadata": {
        "id": "ciLHcVybAonN",
        "colab": {
          "base_uri": "https://localhost:8080/"
        },
        "outputId": "222a2399-8528-4a87-c745-267212e88d4f"
      },
      "source": [
        "# Predict\n",
        "lr_y_pred_over = clf_lr_over.predict(x_test_over)\n",
        "\n",
        "print(f'Accuracy: {np.round(clf_lr_over.score(x_test_over, y_test_over), 2)*100}%')\n",
        "print(f'Cross val : {np.mean(cross_val_score(clf_lr_over, X, y, cv=5, n_jobs=-1)).round(2)}')"
      ],
      "execution_count": null,
      "outputs": [
        {
          "output_type": "stream",
          "text": [
            "Accuracy: 78.0%\n",
            "Cross val : 0.78\n"
          ],
          "name": "stdout"
        }
      ]
    },
    {
      "cell_type": "code",
      "metadata": {
        "id": "974mx9A1AvTK",
        "colab": {
          "base_uri": "https://localhost:8080/",
          "height": 297
        },
        "outputId": "7f4342b0-ff74-405e-fa05-1179a33b1f0e"
      },
      "source": [
        "# Confusion matrix\n",
        "plot_confusion_matrix(clf_lr_over, x_test_over, y_test_over, cmap='Blues', values_format='d')"
      ],
      "execution_count": null,
      "outputs": [
        {
          "output_type": "execute_result",
          "data": {
            "text/plain": [
              "<sklearn.metrics._plot.confusion_matrix.ConfusionMatrixDisplay at 0x7fc1b5bbafd0>"
            ]
          },
          "metadata": {
            "tags": []
          },
          "execution_count": 93
        },
        {
          "output_type": "display_data",
          "data": {
            "image/png": "[encoded data removed]",
            "text/plain": [
              "<Figure size 432x288 with 2 Axes>"
            ]
          },
          "metadata": {
            "tags": [],
            "needs_background": "light"
          }
        }
      ]
    },
    {
      "cell_type": "code",
      "metadata": {
        "id": "cxppRNnUAzIx",
        "colab": {
          "base_uri": "https://localhost:8080/",
          "height": 279
        },
        "outputId": "7342d893-e626-470f-a448-122374410f92"
      },
      "source": [
        "# AUC ROC curve\n",
        "plot_roc_curve(clf_lr_over, x_test_over, y_test_over)\n",
        "plt.grid()"
      ],
      "execution_count": null,
      "outputs": [
        {
          "output_type": "display_data",
          "data": {
            "image/png": "[encoded data removed]",
            "text/plain": [
              "<Figure size 432x288 with 1 Axes>"
            ]
          },
          "metadata": {
            "tags": [],
            "needs_background": "light"
          }
        }
      ]
    },
    {
      "cell_type": "code",
      "metadata": {
        "id": "fspZHpuwvqvk",
        "colab": {
          "base_uri": "https://localhost:8080/",
          "height": 416
        },
        "outputId": "9c098e77-5e0b-44f3-9b2b-3a0ec8025ffb"
      },
      "source": [
        "clf_lr_over.coef_\n",
        "plt.figure(figsize=(10, 5))\n",
        "plt.bar(x_train_under.columns, clf_lr_under.coef_[0])\n",
        "plt.xticks(rotation=90)\n",
        "plt.show()"
      ],
      "execution_count": null,
      "outputs": [
        {
          "output_type": "display_data",
          "data": {
            "image/png": "[encoded data removed]",
            "text/plain": [
              "<Figure size 720x360 with 1 Axes>"
            ]
          },
          "metadata": {
            "tags": [],
            "needs_background": "light"
          }
        }
      ]
    }
  ]
}